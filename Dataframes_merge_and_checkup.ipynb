{
  "nbformat": 4,
  "nbformat_minor": 0,
  "metadata": {
    "colab": {
      "provenance": [],
      "authorship_tag": "ABX9TyNg/RcuwY8uJfzEY4hbzFa4",
      "include_colab_link": true
    },
    "kernelspec": {
      "name": "python3",
      "display_name": "Python 3"
    },
    "language_info": {
      "name": "python"
    }
  },
  "cells": [
    {
      "cell_type": "markdown",
      "metadata": {
        "id": "view-in-github",
        "colab_type": "text"
      },
      "source": [
        "<a href=\"https://colab.research.google.com/github/reservamos/colabs/blob/main/Dataframes_merge_and_checkup.ipynb\" target=\"_parent\"><img src=\"https://colab.research.google.com/assets/colab-badge.svg\" alt=\"Open In Colab\"/></a>"
      ]
    },
    {
      "cell_type": "code",
      "execution_count": null,
      "metadata": {
        "colab": {
          "base_uri": "https://localhost:8080/"
        },
        "id": "FwFEfB96mTS4",
        "outputId": "ef46eb49-a9fb-4433-8dc8-f413299ab42f"
      },
      "outputs": [
        {
          "output_type": "stream",
          "name": "stdout",
          "text": [
            "Mounted at /content/drive\n"
          ]
        }
      ],
      "source": [
        "from google.colab import drive\n",
        "from google.colab import files\n",
        "import pandas as pd\n",
        "from datetime import datetime\n",
        "import os\n",
        "\n",
        "drive.mount('/content/drive')"
      ]
    },
    {
      "cell_type": "code",
      "source": [
        "# Replace 'your_file.csv' with the actual file path\n",
        "os.chdir(\"/content/drive/MyDrive/reportes-mensuales\")\n",
        "\n",
        "# cdf = pd.read_csv(f'octubre23-compras.csv')\n",
        "cdf1 = pd.read_csv(f'julio24-compras1.csv')\n",
        "cdf2 = pd.read_csv(f'julio24-compras2.csv')\n",
        "#cdf3 = pd.read_csv(f'data3.csv')\n",
        "\n",
        "result_df = pd.concat([cdf1, cdf2], ignore_index=True)\n",
        "final_df = result_df.drop_duplicates()\n",
        "print(final_df.head())"
      ],
      "metadata": {
        "colab": {
          "base_uri": "https://localhost:8080/"
        },
        "id": "c2Um095bmWMR",
        "outputId": "585ebdb1-87f6-4529-c16e-29b000b86486"
      },
      "execution_count": null,
      "outputs": [
        {
          "output_type": "stream",
          "name": "stderr",
          "text": [
            "<ipython-input-2-8d2adb705971>:5: DtypeWarning: Columns (8,11,12) have mixed types. Specify dtype option on import or set low_memory=False.\n",
            "  cdf1 = pd.read_csv(f'julio24-compras1.csv')\n",
            "<ipython-input-2-8d2adb705971>:6: DtypeWarning: Columns (8,11,12) have mixed types. Specify dtype option on import or set low_memory=False.\n",
            "  cdf2 = pd.read_csv(f'julio24-compras2.csv')\n"
          ]
        },
        {
          "output_type": "stream",
          "name": "stdout",
          "text": [
            "   purchase_id purchase_state      vendor     channel  ticket_count  \\\n",
            "0     45036309      completed  reservamos  web-mobile             1   \n",
            "1     45036316        attempt  reservamos  web-mobile             0   \n",
            "2     45036317        attempt  reservamos  web-mobile             0   \n",
            "3     45036318        attempt  reservamos  web-mobile             0   \n",
            "4     45036319        attempt  reservamos  web-mobile             0   \n",
            "\n",
            "          type transporter payment_status payment_engine payment_type  ...  \\\n",
            "0  BusPurchase         127        charged          adyen  credit_card  ...   \n",
            "1  BusPurchase          19      nopayment            NaN          NaN  ...   \n",
            "2  BusPurchase           1      nopayment            NaN          NaN  ...   \n",
            "3  BusPurchase           8      nopayment            NaN          NaN  ...   \n",
            "4  BusPurchase         116      nopayment            NaN          NaN  ...   \n",
            "\n",
            "  provider_discount markup insurance service_level service_level_id wallet  \\\n",
            "0               0.0  45.36         0            20              9.0    0.0   \n",
            "1               0.0   0.00         0             0              NaN    0.0   \n",
            "2               0.0   0.00         0             0              NaN    0.0   \n",
            "3               0.0   0.00         0             0              NaN    0.0   \n",
            "4               0.0   0.00         0             0              NaN    0.0   \n",
            "\n",
            "   viajamas  interest  commission  discount  \n",
            "0         0       0.0       26.46       0.0  \n",
            "1         0       0.0        0.00       0.0  \n",
            "2         0       0.0        0.00       0.0  \n",
            "3         0       0.0        0.00       0.0  \n",
            "4         0       0.0        0.00       0.0  \n",
            "\n",
            "[5 rows x 31 columns]\n"
          ]
        }
      ]
    },
    {
      "cell_type": "code",
      "source": [
        "# Replace 'your_file.csv' with the actual file path\n",
        "os.chdir(\"/content/drive/MyDrive/reportes-mensuales\")\n",
        "\n",
        "#cdf = pd.read_csv(f'abril24-compras1.csv')\n",
        "#final_df = cdf.drop_duplicates()\n",
        "print(final_df.tail())"
      ],
      "metadata": {
        "colab": {
          "base_uri": "https://localhost:8080/"
        },
        "id": "nk6QmcMKHbwO",
        "outputId": "784fd12a-e030-4460-de87-884659821bc3"
      },
      "execution_count": null,
      "outputs": [
        {
          "output_type": "stream",
          "name": "stdout",
          "text": [
            "         purchase_id purchase_state      vendor     channel  ticket_count  \\\n",
            "4383128     49419438        attempt  reservamos  web-mobile             0   \n",
            "4383129     49419439      completed  reservamos  web-mobile             1   \n",
            "4383130     49419440        attempt  reservamos  web-mobile             0   \n",
            "4383131     49419441        attempt  reservamos  web-mobile             0   \n",
            "4383132     49419442        attempt  reservamos  web-mobile             0   \n",
            "\n",
            "                            type transporter payment_status payment_engine  \\\n",
            "4383128              BusPurchase           1      nopayment            NaN   \n",
            "4383129              BusPurchase           8      nopayment            NaN   \n",
            "4383130  BusPurchase,BusPurchase       116,5      nopayment            NaN   \n",
            "4383131              BusPurchase           1      nopayment            NaN   \n",
            "4383132              BusPurchase           1      nopayment            NaN   \n",
            "\n",
            "        payment_type  ... provider_discount markup insurance service_level  \\\n",
            "4383128          NaN  ...               0.0    0.0         0             0   \n",
            "4383129          NaN  ...               0.0   16.5         0            20   \n",
            "4383130          NaN  ...               0.0    0.0         0             0   \n",
            "4383131          NaN  ...               0.0    0.0         0             0   \n",
            "4383132          NaN  ...               0.0    0.0         0             0   \n",
            "\n",
            "        service_level_id wallet  viajamas  interest  commission  discount  \n",
            "4383128              NaN    0.0         0       0.0      0.0000       0.0  \n",
            "4383129              9.0    0.0         0       0.0      7.5625       0.0  \n",
            "4383130              NaN    0.0         0       0.0      0.0000       0.0  \n",
            "4383131              NaN    0.0         0       0.0      0.0000       0.0  \n",
            "4383132              NaN    0.0         0       0.0      0.0000       0.0  \n",
            "\n",
            "[5 rows x 31 columns]\n"
          ]
        }
      ]
    },
    {
      "cell_type": "code",
      "source": [
        "# Replace 'datetime_column' with the actual column name containing datetime information\n",
        "final_df['completed_at_mx'] = pd.to_datetime(final_df['completed_at_mx'])\n",
        "unique_dates = final_df['completed_at_mx'].dt.date.unique()\n",
        "print(unique_dates)"
      ],
      "metadata": {
        "colab": {
          "base_uri": "https://localhost:8080/"
        },
        "id": "lsnNjJICmhcg",
        "outputId": "49ec9de9-1902-4e06-f0fd-fdfcd2650fe1"
      },
      "execution_count": null,
      "outputs": [
        {
          "output_type": "stream",
          "name": "stdout",
          "text": [
            "[datetime.date(2024, 7, 1) NaT datetime.date(2024, 7, 2)\n",
            " datetime.date(2024, 7, 3) datetime.date(2024, 7, 4)\n",
            " datetime.date(2024, 7, 5) datetime.date(2024, 7, 6)\n",
            " datetime.date(2024, 7, 8) datetime.date(2024, 7, 7)\n",
            " datetime.date(2024, 7, 9) datetime.date(2024, 7, 10)\n",
            " datetime.date(2024, 7, 15) datetime.date(2024, 7, 11)\n",
            " datetime.date(2024, 7, 12) datetime.date(2024, 7, 13)\n",
            " datetime.date(2024, 7, 14) datetime.date(2024, 7, 16)\n",
            " datetime.date(2024, 7, 17) datetime.date(2024, 7, 18)\n",
            " datetime.date(2024, 7, 19) datetime.date(2024, 7, 20)\n",
            " datetime.date(2024, 7, 21) datetime.date(2024, 7, 22)\n",
            " datetime.date(2024, 7, 23) datetime.date(2024, 7, 24)\n",
            " datetime.date(2024, 7, 25) datetime.date(2024, 7, 26)\n",
            " datetime.date(2024, 7, 27) datetime.date(2024, 7, 28)\n",
            " datetime.date(2024, 7, 29) datetime.date(2024, 7, 30)\n",
            " datetime.date(2024, 7, 31) datetime.date(2024, 8, 1)]\n"
          ]
        }
      ]
    },
    {
      "cell_type": "code",
      "source": [
        "final_df.to_csv('df.csv', encoding = 'utf-8-sig')\n",
        "files.download('df.csv')"
      ],
      "metadata": {
        "colab": {
          "base_uri": "https://localhost:8080/",
          "height": 34
        },
        "id": "5Ge6-_MEt9je",
        "outputId": "dcd64f96-1cae-4706-d3b2-392997ab8746"
      },
      "execution_count": null,
      "outputs": [
        {
          "output_type": "display_data",
          "data": {
            "text/plain": [
              "<IPython.core.display.Javascript object>"
            ],
            "application/javascript": [
              "\n",
              "    async function download(id, filename, size) {\n",
              "      if (!google.colab.kernel.accessAllowed) {\n",
              "        return;\n",
              "      }\n",
              "      const div = document.createElement('div');\n",
              "      const label = document.createElement('label');\n",
              "      label.textContent = `Downloading \"${filename}\": `;\n",
              "      div.appendChild(label);\n",
              "      const progress = document.createElement('progress');\n",
              "      progress.max = size;\n",
              "      div.appendChild(progress);\n",
              "      document.body.appendChild(div);\n",
              "\n",
              "      const buffers = [];\n",
              "      let downloaded = 0;\n",
              "\n",
              "      const channel = await google.colab.kernel.comms.open(id);\n",
              "      // Send a message to notify the kernel that we're ready.\n",
              "      channel.send({})\n",
              "\n",
              "      for await (const message of channel.messages) {\n",
              "        // Send a message to notify the kernel that we're ready.\n",
              "        channel.send({})\n",
              "        if (message.buffers) {\n",
              "          for (const buffer of message.buffers) {\n",
              "            buffers.push(buffer);\n",
              "            downloaded += buffer.byteLength;\n",
              "            progress.value = downloaded;\n",
              "          }\n",
              "        }\n",
              "      }\n",
              "      const blob = new Blob(buffers, {type: 'application/binary'});\n",
              "      const a = document.createElement('a');\n",
              "      a.href = window.URL.createObjectURL(blob);\n",
              "      a.download = filename;\n",
              "      div.appendChild(a);\n",
              "      a.click();\n",
              "      div.remove();\n",
              "    }\n",
              "  "
            ]
          },
          "metadata": {}
        },
        {
          "output_type": "display_data",
          "data": {
            "text/plain": [
              "<IPython.core.display.Javascript object>"
            ],
            "application/javascript": [
              "download(\"download_81bad4a4-35d8-4493-80ce-33e6d5a7f299\", \"df.csv\", 659828758)"
            ]
          },
          "metadata": {}
        }
      ]
    }
  ]
}