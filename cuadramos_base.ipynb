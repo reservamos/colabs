{
  "nbformat": 4,
  "nbformat_minor": 0,
  "metadata": {
    "colab": {
      "provenance": [],
      "collapsed_sections": [
        "LW_YXWF_MnZX",
        "wvpZPpEfPAzH",
        "gzoB_zvOwrC9",
        "Zz96PW-oQL93",
        "U0iXm7s5SqYm",
        "5DdoXpV5TDm4"
      ],
      "authorship_tag": "ABX9TyOILMPyIkg/pmC2Vrt9LlZk",
      "include_colab_link": true
    },
    "kernelspec": {
      "name": "python3",
      "display_name": "Python 3"
    },
    "language_info": {
      "name": "python"
    }
  },
  "cells": [
    {
      "cell_type": "markdown",
      "metadata": {
        "id": "view-in-github",
        "colab_type": "text"
      },
      "source": [
        "<a href=\"https://colab.research.google.com/github/reservamos/colabs/blob/main/cuadramos_base.ipynb\" target=\"_parent\"><img src=\"https://colab.research.google.com/assets/colab-badge.svg\" alt=\"Open In Colab\"/></a>"
      ]
    },
    {
      "cell_type": "markdown",
      "source": [
        "# Conexión"
      ],
      "metadata": {
        "id": "LW_YXWF_MnZX"
      }
    },
    {
      "cell_type": "code",
      "execution_count": null,
      "metadata": {
        "colab": {
          "base_uri": "https://localhost:8080/",
          "height": 357
        },
        "cellView": "form",
        "id": "utp9afwVLgIB",
        "outputId": "aef2ca34-27c5-4ae5-ac6b-3e6bd1ba0bb6"
      },
      "outputs": [
        {
          "output_type": "error",
          "ename": "MessageError",
          "evalue": "ignored",
          "traceback": [
            "\u001b[0;31m---------------------------------------------------------------------------\u001b[0m",
            "\u001b[0;31mMessageError\u001b[0m                              Traceback (most recent call last)",
            "\u001b[0;32m<ipython-input-1-aa9e9061493f>\u001b[0m in \u001b[0;36m<module>\u001b[0;34m\u001b[0m\n\u001b[1;32m      4\u001b[0m \u001b[0;32mfrom\u001b[0m \u001b[0mgoogle\u001b[0m\u001b[0;34m.\u001b[0m\u001b[0mcolab\u001b[0m \u001b[0;32mimport\u001b[0m \u001b[0mdrive\u001b[0m\u001b[0;34m\u001b[0m\u001b[0;34m\u001b[0m\u001b[0m\n\u001b[1;32m      5\u001b[0m \u001b[0;34m\u001b[0m\u001b[0m\n\u001b[0;32m----> 6\u001b[0;31m \u001b[0mdrive\u001b[0m\u001b[0;34m.\u001b[0m\u001b[0mmount\u001b[0m\u001b[0;34m(\u001b[0m\u001b[0;34m'/content/drive'\u001b[0m\u001b[0;34m,\u001b[0m \u001b[0mforce_remount\u001b[0m\u001b[0;34m=\u001b[0m\u001b[0;32mTrue\u001b[0m\u001b[0;34m)\u001b[0m\u001b[0;34m\u001b[0m\u001b[0;34m\u001b[0m\u001b[0m\n\u001b[0m",
            "\u001b[0;32m/usr/local/lib/python3.8/dist-packages/google/colab/drive.py\u001b[0m in \u001b[0;36mmount\u001b[0;34m(mountpoint, force_remount, timeout_ms, readonly)\u001b[0m\n\u001b[1;32m     99\u001b[0m \u001b[0;32mdef\u001b[0m \u001b[0mmount\u001b[0m\u001b[0;34m(\u001b[0m\u001b[0mmountpoint\u001b[0m\u001b[0;34m,\u001b[0m \u001b[0mforce_remount\u001b[0m\u001b[0;34m=\u001b[0m\u001b[0;32mFalse\u001b[0m\u001b[0;34m,\u001b[0m \u001b[0mtimeout_ms\u001b[0m\u001b[0;34m=\u001b[0m\u001b[0;36m120000\u001b[0m\u001b[0;34m,\u001b[0m \u001b[0mreadonly\u001b[0m\u001b[0;34m=\u001b[0m\u001b[0;32mFalse\u001b[0m\u001b[0;34m)\u001b[0m\u001b[0;34m:\u001b[0m\u001b[0;34m\u001b[0m\u001b[0;34m\u001b[0m\u001b[0m\n\u001b[1;32m    100\u001b[0m   \u001b[0;34m\"\"\"Mount your Google Drive at the specified mountpoint path.\"\"\"\u001b[0m\u001b[0;34m\u001b[0m\u001b[0;34m\u001b[0m\u001b[0m\n\u001b[0;32m--> 101\u001b[0;31m   return _mount(\n\u001b[0m\u001b[1;32m    102\u001b[0m       \u001b[0mmountpoint\u001b[0m\u001b[0;34m,\u001b[0m\u001b[0;34m\u001b[0m\u001b[0;34m\u001b[0m\u001b[0m\n\u001b[1;32m    103\u001b[0m       \u001b[0mforce_remount\u001b[0m\u001b[0;34m=\u001b[0m\u001b[0mforce_remount\u001b[0m\u001b[0;34m,\u001b[0m\u001b[0;34m\u001b[0m\u001b[0;34m\u001b[0m\u001b[0m\n",
            "\u001b[0;32m/usr/local/lib/python3.8/dist-packages/google/colab/drive.py\u001b[0m in \u001b[0;36m_mount\u001b[0;34m(mountpoint, force_remount, timeout_ms, ephemeral, readonly)\u001b[0m\n\u001b[1;32m    122\u001b[0m       'TBE_EPHEM_CREDS_ADDR'] if ephemeral else _os.environ['TBE_CREDS_ADDR']\n\u001b[1;32m    123\u001b[0m   \u001b[0;32mif\u001b[0m \u001b[0mephemeral\u001b[0m\u001b[0;34m:\u001b[0m\u001b[0;34m\u001b[0m\u001b[0;34m\u001b[0m\u001b[0m\n\u001b[0;32m--> 124\u001b[0;31m     _message.blocking_request(\n\u001b[0m\u001b[1;32m    125\u001b[0m         'request_auth', request={'authType': 'dfs_ephemeral'}, timeout_sec=None)\n\u001b[1;32m    126\u001b[0m \u001b[0;34m\u001b[0m\u001b[0m\n",
            "\u001b[0;32m/usr/local/lib/python3.8/dist-packages/google/colab/_message.py\u001b[0m in \u001b[0;36mblocking_request\u001b[0;34m(request_type, request, timeout_sec, parent)\u001b[0m\n\u001b[1;32m    169\u001b[0m   request_id = send_request(\n\u001b[1;32m    170\u001b[0m       request_type, request, parent=parent, expect_reply=True)\n\u001b[0;32m--> 171\u001b[0;31m   \u001b[0;32mreturn\u001b[0m \u001b[0mread_reply_from_input\u001b[0m\u001b[0;34m(\u001b[0m\u001b[0mrequest_id\u001b[0m\u001b[0;34m,\u001b[0m \u001b[0mtimeout_sec\u001b[0m\u001b[0;34m)\u001b[0m\u001b[0;34m\u001b[0m\u001b[0;34m\u001b[0m\u001b[0m\n\u001b[0m",
            "\u001b[0;32m/usr/local/lib/python3.8/dist-packages/google/colab/_message.py\u001b[0m in \u001b[0;36mread_reply_from_input\u001b[0;34m(message_id, timeout_sec)\u001b[0m\n\u001b[1;32m    100\u001b[0m         reply.get('colab_msg_id') == message_id):\n\u001b[1;32m    101\u001b[0m       \u001b[0;32mif\u001b[0m \u001b[0;34m'error'\u001b[0m \u001b[0;32min\u001b[0m \u001b[0mreply\u001b[0m\u001b[0;34m:\u001b[0m\u001b[0;34m\u001b[0m\u001b[0;34m\u001b[0m\u001b[0m\n\u001b[0;32m--> 102\u001b[0;31m         \u001b[0;32mraise\u001b[0m \u001b[0mMessageError\u001b[0m\u001b[0;34m(\u001b[0m\u001b[0mreply\u001b[0m\u001b[0;34m[\u001b[0m\u001b[0;34m'error'\u001b[0m\u001b[0;34m]\u001b[0m\u001b[0;34m)\u001b[0m\u001b[0;34m\u001b[0m\u001b[0;34m\u001b[0m\u001b[0m\n\u001b[0m\u001b[1;32m    103\u001b[0m       \u001b[0;32mreturn\u001b[0m \u001b[0mreply\u001b[0m\u001b[0;34m.\u001b[0m\u001b[0mget\u001b[0m\u001b[0;34m(\u001b[0m\u001b[0;34m'data'\u001b[0m\u001b[0;34m,\u001b[0m \u001b[0;32mNone\u001b[0m\u001b[0;34m)\u001b[0m\u001b[0;34m\u001b[0m\u001b[0;34m\u001b[0m\u001b[0m\n\u001b[1;32m    104\u001b[0m \u001b[0;34m\u001b[0m\u001b[0m\n",
            "\u001b[0;31mMessageError\u001b[0m: Error: credential propagation was unsuccessful"
          ]
        }
      ],
      "source": [
        "#@title Conectarse a Google Drive\n",
        "#@markdown Hacer previamente un acceso directo a la carpeta de reportes-mensuales en el drive propio.\n",
        "\n",
        "from google.colab import drive\n",
        "\n",
        "drive.mount('/content/drive', force_remount=True)"
      ]
    },
    {
      "cell_type": "markdown",
      "source": [
        "# 1. General"
      ],
      "metadata": {
        "id": "0TCOSufRLp9O"
      }
    },
    {
      "cell_type": "code",
      "source": [
        "#@title 1.1 Leer reportes en la carpeta de reportes-mensuales de Google Drive\n",
        "mes = \"07\" #@param [\"01\", \"02\", \"03\", \"04\", \"05\", \"06\", \"07\", \"08\", \"09\", \"10\", \"11\", \"12\"]\n",
        "año = \"2024\" #@param [\"2024\", \"2023\", \"2022\", \"2025\"]\n",
        "\n",
        "#@markdown [reporte compras](http://reservamos-metabase.us-west-2.elasticbeanstalk.com/question/1456)\n",
        "nombre_reporte_de_compras = \"julio24-compras\" #@param {type:\"string\"}\n",
        "#@markdown [reporte bus](http://reservamos-metabase.us-west-2.elasticbeanstalk.com/question/1224?&tickets_state=payed&tickets_state=canceled)\n",
        "nombre_reporte_de_boletos_bus = \"julio24-boletos-bus\" #@param {type:\"string\"}\n",
        "#@markdown [reporte aéreo](http://reservamos-metabase.us-west-2.elasticbeanstalk.com/question/1232?&tickets_state=payed&tickets_state=canceled)\n",
        "nombre_reporte_de_boletos_avion = \"julio24-boletos-avion\" #@param {type:\"string\"}\n",
        "\n",
        "#@markdown [reporte adyen](https://colab.research.google.com/drive/1fyDcFcPGswliuo84WoWMj5Ej77msW9sn?usp=sharing)\n",
        "nombre_reporte_adyen = \"julio24-adyen\" #@param {type:\"string\"}\n",
        "#@markdown reporte conekta\n",
        "nombre_reporte_conekta = \"julio24-conekta\" #@param {type:\"string\"}\n",
        "#@markdown reporte paypal\n",
        "nombre_reporte_paypal = \"julio24-paypal\" #@param {type:\"string\"}\n",
        "#@markdown reporte openpay\n",
        "nombre_reporte_openpay = \"julio24-openpay\" #@param {type:\"string\"}\n",
        "#@markdown [reporte monedero](https://data.reservamos.mx/question/1528)\n",
        "nombre_reporte_monedero = \"julio24-monedero\" #@param {type:\"string\"}\n",
        "\n",
        "\n",
        "from google.colab import files\n",
        "import pandas as pd\n",
        "import numpy as np\n",
        "import os\n",
        "os.chdir(\"/content/drive/MyDrive/reportes-mensuales\")\n",
        "\n",
        "linebr = '\\r\\n'\n",
        "cdf = pd.read_csv(f'{nombre_reporte_de_compras}.csv')\n",
        "bdf = pd.read_csv(f'{nombre_reporte_de_boletos_bus}.csv')\n",
        "adf = pd.read_csv(f'{nombre_reporte_de_boletos_avion}.csv')\n",
        "adf = pd.read_csv(f'{nombre_reporte_de_boletos_avion}.csv')\n",
        "\n",
        "tdf = pd.concat([bdf, adf])\n",
        "\n",
        "adyen_df = pd.read_csv(f'{nombre_reporte_adyen}.csv')\n",
        "conekta_df = pd.read_csv(f'{nombre_reporte_conekta}.csv')\n",
        "paypal_df = pd.read_csv(f'{nombre_reporte_paypal}.csv')\n",
        "openpay_df = pd.read_csv(f'{nombre_reporte_openpay}.csv')\n",
        "\n",
        "wallet_df = pd.read_csv(f'{nombre_reporte_monedero}.csv')\n",
        "bus_transporters_df = pd.read_csv('bus-transporters.csv')\n",
        "\n",
        "print('Archivos cargados')"
      ],
      "metadata": {
        "cellView": "form",
        "id": "1pHD5arUL5Jo",
        "colab": {
          "base_uri": "https://localhost:8080/",
          "height": 221
        },
        "outputId": "5b2c131d-08f1-4fcd-cbb0-c16d7501b24c"
      },
      "execution_count": null,
      "outputs": [
        {
          "output_type": "error",
          "ename": "FileNotFoundError",
          "evalue": "[Errno 2] No such file or directory: '/content/drive/MyDrive/reportes-mensuales'",
          "traceback": [
            "\u001b[0;31m---------------------------------------------------------------------------\u001b[0m",
            "\u001b[0;31mFileNotFoundError\u001b[0m                         Traceback (most recent call last)",
            "\u001b[0;32m<ipython-input-1-3931a211d8a5>\u001b[0m in \u001b[0;36m<cell line: 28>\u001b[0;34m()\u001b[0m\n\u001b[1;32m     26\u001b[0m \u001b[0;32mimport\u001b[0m \u001b[0mnumpy\u001b[0m \u001b[0;32mas\u001b[0m \u001b[0mnp\u001b[0m\u001b[0;34m\u001b[0m\u001b[0;34m\u001b[0m\u001b[0m\n\u001b[1;32m     27\u001b[0m \u001b[0;32mimport\u001b[0m \u001b[0mos\u001b[0m\u001b[0;34m\u001b[0m\u001b[0;34m\u001b[0m\u001b[0m\n\u001b[0;32m---> 28\u001b[0;31m \u001b[0mos\u001b[0m\u001b[0;34m.\u001b[0m\u001b[0mchdir\u001b[0m\u001b[0;34m(\u001b[0m\u001b[0;34m\"/content/drive/MyDrive/reportes-mensuales\"\u001b[0m\u001b[0;34m)\u001b[0m\u001b[0;34m\u001b[0m\u001b[0;34m\u001b[0m\u001b[0m\n\u001b[0m\u001b[1;32m     29\u001b[0m \u001b[0;34m\u001b[0m\u001b[0m\n\u001b[1;32m     30\u001b[0m \u001b[0mlinebr\u001b[0m \u001b[0;34m=\u001b[0m \u001b[0;34m'\\r\\n'\u001b[0m\u001b[0;34m\u001b[0m\u001b[0;34m\u001b[0m\u001b[0m\n",
            "\u001b[0;31mFileNotFoundError\u001b[0m: [Errno 2] No such file or directory: '/content/drive/MyDrive/reportes-mensuales'"
          ]
        }
      ]
    },
    {
      "cell_type": "code",
      "source": [
        "#@title 1.2 Filtrado y ordenado del reporte de compras.\n",
        "\n",
        "def month(string):\n",
        "  if len(str(string)) < 2:\n",
        "    return \"0\" + str(string)\n",
        "  return str(string)\n",
        "\n",
        "def df_counter(df):\n",
        "  print('-> ' + \"{:0,.0f}\".format(df.shape[0]) + ' registros.')\n",
        "\n",
        "def fmt_curr(number):\n",
        "  return '${:0,.2f}'.format(number)\n",
        "\n",
        "def fmt_num(number):\n",
        "  return '{:0,.0f}'.format(number)\n",
        "\n",
        "def fmt_dnum(number):\n",
        "  return '{:0,.2f}'.format(number)\n",
        "\n",
        "def diff_print(num1, num2):\n",
        "  print(f'DIFERENCIA = {fmt_curr(num1 - num2)}{linebr}procesador: {fmt_curr(num1)} - reservamos: {fmt_curr(num2)}')\n",
        "\n",
        "def compare_cols(col1, col2):\n",
        "  not_found_elements = []\n",
        "  for x in col1:\n",
        "    if x in col2.values:\n",
        "      continue\n",
        "    else:\n",
        "      not_found_elements.append(x)\n",
        "  return np.unique(not_found_elements)\n",
        "\n",
        "def create_payment(row):\n",
        "    if pd.isnull(row['payment_engine']):\n",
        "        return row['payment_type']\n",
        "    else:\n",
        "        return row['payment_engine']\n",
        "\n",
        "basic_groupby_columns = ['purchase_state', 'payment_status', 'payment_method']\n",
        "basic_agg_columns = {'purchase_total':'sum','payment_total':'sum'}\n",
        "basic_currency_columns = list(basic_agg_columns.keys())\n",
        "extended_agg_columns = {**basic_agg_columns, 'trip_total':'sum','ancillaries_total':'sum','discounts_total':'sum'}\n",
        "ext_currency_columns = list(extended_agg_columns.keys())\n",
        "purchase_columns = {'purchase_total':'sum', 'payment_total':'sum', 'trip_total':'sum', 'ancillaries_total':'sum', 'discounts_total':'sum', 'markup':'sum', 'service_level':'sum', 'insurance':'sum', 'wallet':'sum', 'viajamas':'sum', 'interest':'sum', 'commission':'sum', 'discount':'sum'}\n",
        "purchase_columns_list = list(purchase_columns.keys())\n",
        "\n",
        "# sorts purchases report by id\n",
        "sorted_purchases = cdf.sort_values(by=['purchase_id'])\n",
        "\n",
        "# filters only purchases paid on selected month or purchases with nopayment\n",
        "purchases1 = sorted_purchases.query(f\"paid_at_mx >= '{año}-{month(mes)}-01' and paid_at_mx < '{año}-{month(int(mes)+1)}-01' or payment_status == 'nopayment'\")\n",
        "\n",
        "# sorts purchases by paid date\n",
        "purchases2 = purchases1.sort_values(by=['paid_at_mx'])\n",
        "\n",
        "#add calculated columns\n",
        "purchases2.loc[:, \"trip_total\"] = purchases2.price + purchases2.taxes + purchases2.service_fee - purchases2.provider_discount\n",
        "purchases2.loc[:, \"ancillaries_total\"] = purchases2.markup + purchases2.insurance + purchases2.service_level + purchases2.interest\n",
        "purchases2.loc[:, \"discounts_total\"] = purchases2.wallet + purchases2.viajamas + purchases2.discount\n",
        "purchases2['payment_method'] = purchases2.apply(create_payment, axis=1)\n",
        "\n",
        "# drops duplicates with failed and charged payments, keeps only charged row, this happens due to query validation (payment.pdt is not null OR payment.status = 'charged')\n",
        "purchases3 = purchases2.drop_duplicates(subset=['purchase_id', 'purchase_state'], keep='last')\n",
        "\n",
        "df_counter(purchases3)\n",
        "\n",
        "first_id = purchases3.iloc[0]['purchase_id']\n",
        "last_id = purchases3.iloc[-1]['purchase_id']\n",
        "print('Primer id de compra: ' + str(first_id) + ', último id: ' + str(last_id))\n",
        "\n",
        "payment_status_before = { 'charged': 'charged', 'attempt': 'attempt', 'pending': 'failed', 'canceled': 'rejected', 'fully_refunded': 'charged', 'partially_refunded': 'charged', 'suspicious': 'charged', 'chargeback': 'charged', 'failed': 'failed', 'nopayment': 'nopayment', 'unsafe': 'unsafe'}\n",
        "purchases3.loc[:, \"payment_status_before\"] = purchases3.payment_status.apply(lambda x: payment_status_before[x])\n",
        "payment_status_final = { 'charged': 'charged', 'attempt': 'attempt', 'pending': 'failed', 'canceled': 'rejected', 'fully_refunded': 'refund', 'partially_refunded': 'refund', 'suspicious': 'charged', 'chargeback': 'chargeback', 'failed': 'failed', 'nopayment': 'pre_charged', 'unsafe': 'unsafe'}\n",
        "purchases3.loc[:, \"payment_status_final\"] = purchases3.payment_status.apply(lambda x: payment_status_final[x])\n",
        "\n",
        "income_purchases = purchases3.query(\"payment_status_final == 'charged'\")\n",
        "#income_purchases.loc[:, 'purchase_type'] = 'aceptadas'\n",
        "#income_purchases.loc[income_purchases.payment_status == \"nopayment\", \"total\"] = income_purchases.loc[:,'purchase_total']\n",
        "#income_purchases.loc[income_purchases.payment_status == \"nopayment\", \"paid_at_mx\"] = income_purchases.loc[:,'completed_at_mx']\n",
        "\n",
        "loss_purchases = purchases3.query(\"payment_status_final == 'failed'\")\n",
        "#loss_purchases.loc[:, 'purchase_type'] = 'fallidas'\n",
        "#loss_purchases.loc[loss_purchases.payment_status == \"nopayment\", \"payment_total\"] = loss_purchases.loc[:,'purchase_total']\n",
        "\n",
        "# income_purchases.to_csv('df.csv', encoding = 'utf-8-sig')\n",
        "# files.download('df.csv')"
      ],
      "metadata": {
        "id": "ULU-_csgMBbA"
      },
      "execution_count": null,
      "outputs": []
    },
    {
      "cell_type": "code",
      "source": [
        "#@title 1.3 Filtrado y ordenado del reporte de boletos.\n",
        "\n",
        "# sorts tickets report by id\n",
        "sorted_tickets = tdf.sort_values(by=['ID Compra'])\n",
        "\n",
        "# drops duplicates with same ticket id\n",
        "tickets1 = sorted_tickets.drop_duplicates(subset=['ID Boleto'], keep='last')\n",
        "\n",
        "#adds one column of service_levels that summarizes existents\n",
        "tickets1['Nds boleto'] =  np.where(tickets1['Nds x boleto (>4jul)'].isnull(), tickets1['Nds por boleto'], tickets1['Nds x boleto (>4jul)'])\n",
        "\n",
        "print('No. de boletos: ' + str(tickets1.shape[0]))\n",
        "purchases_on_tickets = np.unique(tickets1['ID Compra'].values)\n",
        "print('No. de compras: ' + str(len(purchases_on_tickets)))\n",
        "\n",
        "first = tickets1.iloc[0]['ID Boleto']\n",
        "last = tickets1.iloc[-1]['ID Boleto']\n",
        "print('Primer id de boleto: ' + str(first) + ', último id: ' + str(last))\n",
        "\n",
        "tickets_on_purchases = purchases3.query(\"ticket_count > 0\")\n",
        "purchases_on_purchases = np.unique(tickets_on_purchases['purchase_id'].values)\n",
        "print('No. de compras en el reporte de compras: ' + str(len(purchases_on_purchases)) + linebr)\n",
        "\n",
        "print('Ids compras diferentes: ' + str(set(purchases_on_purchases) - set(purchases_on_tickets)) + ' (punto 3.2)')"
      ],
      "metadata": {
        "id": "0mg_vLpkMFDT"
      },
      "execution_count": null,
      "outputs": []
    },
    {
      "cell_type": "code",
      "source": [
        "#@title 1.4 Diferencias en montos en reporte de compras.\n",
        "#@markdown Diferencias de centavos entre el total del pago y el total de la compra guardados en la base de datos.\n",
        "diferencias_en_campos = \"desglose\" #@param [\"desglose\", \"registros\"]\n",
        "\n",
        "purchases_diffs = purchases3.query(\"purchase_total != payment_total and purchase_total > 0 and payment_status != 'nopayment'\")\n",
        "purchases_diffs2 = purchases_diffs[['purchase_id', 'purchase_state', 'payment_status', 'payment_method', 'vendor', 'channel', 'purchase_total', 'payment_total', 'completed_at_mx']]\n",
        "\n",
        "df_counter(purchases_diffs2)\n",
        "\n",
        "purchases_diffs_breakdown = purchases_diffs2.groupby(['vendor', 'channel'] + basic_groupby_columns, dropna=False).agg({'channel':'count', **basic_agg_columns})\n",
        "purchases_diffs_breakdown['diff'] = purchases_diffs_breakdown.payment_total - purchases_diffs_breakdown.purchase_total\n",
        "diff_print(purchases_diffs_breakdown['purchase_total'].sum(), purchases_diffs_breakdown['payment_total'].sum())\n",
        "purchases_diffs_breakdown[basic_currency_columns] = purchases_diffs_breakdown[basic_currency_columns].apply(lambda series: series.apply(lambda value: fmt_dnum(value)) )\n",
        "\n",
        "purchases_diffs_breakdown.style if diferencias_en_campos == 'desglose' else purchases_diffs2.style"
      ],
      "metadata": {
        "cellView": "form",
        "id": "wQNKiwy_MKXT"
      },
      "execution_count": null,
      "outputs": []
    },
    {
      "cell_type": "code",
      "source": [
        "#@title 1.5 Diferencias en montos entre reporte de compras y boletos.\n",
        "#@markdown Diferencias de centavos entre el total del boleto en el reporte de boleto y el total del boleto en el reporte de la compra.\n",
        "#@markdown La comparación se hace tabla de compras contra tabla de boletos. Diferencias en markup son porque en el reporte es una columna calculada por boleto, el que se cobró realmente es el markup de la compra.\n",
        "diferencias_en_campos = \"registros\" #@param [\"desglose\", \"registros\"]\n",
        "\n",
        "purchase_trip_totals = purchases3.query(\"price > 0\")\n",
        "purchase_trip_totals_subset = purchase_trip_totals[['purchase_id', 'purchase_state', 'payment_status', 'payment_method', 'vendor', 'channel', 'ticket_count', 'price', 'taxes', 'service_fee', 'provider_discount', 'service_level', 'markup', 'trip_total']]\n",
        "\n",
        "tickets_subset = tickets1[['ID Compra', 'Precio', 'IVA', 'Total', 'Descuento', 'Nds boleto', 'Markup']]\n",
        "tickets_totals_by_purchase = tickets_subset.groupby(['ID Compra'], dropna=False).agg(tickets_count=('ID Compra', 'count'), tickets_total=('Total', 'sum'), tickets_markup=('Markup', 'sum'),  tickets_service_level=('Nds boleto', 'sum')).reset_index()\n",
        "\n",
        "trip_totals_df = pd.merge(purchase_trip_totals_subset, tickets_totals_by_purchase, how='inner', left_on = 'purchase_id', right_on = 'ID Compra')\n",
        "\n",
        "trip_totals_df['total_diff'] = trip_totals_df.trip_total - trip_totals_df.tickets_total\n",
        "trip_totals_df['markup_diff'] = trip_totals_df.markup - trip_totals_df.tickets_markup\n",
        "trip_totals_df['service_level_diff'] = trip_totals_df.service_level - trip_totals_df.tickets_service_level\n",
        "\n",
        "tickets_totals_breakdown = trip_totals_df.query('total_diff != 0 or markup_diff != 0 or service_level_diff != 0')\n",
        "tickets_totals_breakdown_subset = tickets_totals_breakdown[['purchase_id', 'purchase_state', 'payment_status', 'payment_method', 'vendor', 'channel', 'ticket_count', 'tickets_count', 'trip_total', 'tickets_total', 'total_diff', 'service_level', 'tickets_service_level', 'service_level_diff', 'markup', 'tickets_markup', 'markup_diff']]\n",
        "\n",
        "tickets_totals_breakdown2 = tickets_totals_breakdown_subset.groupby(['purchase_state', 'payment_status'], dropna=False).agg(count=('payment_status','count'), purchase_trip_total=('trip_total', 'sum'), tickets_trip_total=('tickets_total', 'sum'), total_diff=('total_diff', 'sum'), purchase_markup=('markup', 'sum'), tickets_markup=('tickets_markup', 'sum'), markup_diff=('markup_diff', 'sum'), purchase_service_level=('service_level', 'sum'), tickets_service_level=('tickets_service_level', 'sum'), service_level_diff=('service_level_diff', 'sum'))\n",
        "diff_print(tickets_totals_breakdown2['purchase_trip_total'].sum(), tickets_totals_breakdown2['tickets_trip_total'].sum())\n",
        "\n",
        "diff_columns_names = ['purchase_trip_total', 'tickets_trip_total', 'total_diff', 'purchase_markup', 'tickets_markup', 'markup_diff', 'purchase_service_level', 'tickets_service_level', 'service_level_diff']\n",
        "tickets_totals_breakdown2[diff_columns_names] = tickets_totals_breakdown2[diff_columns_names].apply(lambda series: series.apply(lambda value: fmt_dnum(value)) )\n",
        "\n",
        "df_counter(tickets_totals_breakdown_subset)\n",
        "\n",
        "tickets_totals_breakdown2.style if diferencias_en_campos == 'desglose' else tickets_totals_breakdown_subset.style"
      ],
      "metadata": {
        "id": "gXszxV4VMZG1"
      },
      "execution_count": null,
      "outputs": []
    },
    {
      "cell_type": "markdown",
      "source": [
        "# 2. Compras"
      ],
      "metadata": {
        "id": "vZoTUcWBMiMI"
      }
    },
    {
      "cell_type": "code",
      "source": [
        "#@title 2.1 Cálculo de ingresos en reporte de compras.\n",
        "\n",
        "full_breakdown = purchases3.groupby(['purchase_state'], dropna=False).agg({'purchase_state': 'count', **purchase_columns})\n",
        "df_counter(purchases3)\n",
        "\n",
        "full_breakdown[purchase_columns_list] = full_breakdown[purchase_columns_list].apply(lambda series: series.apply(lambda value: fmt_dnum(value)) )\n",
        "full_breakdown.style\n",
        "\n",
        "# to show purchases from breakdown paste 'purchases3.style' on the next line."
      ],
      "metadata": {
        "id": "AEQiGDL8MdKK"
      },
      "execution_count": null,
      "outputs": []
    },
    {
      "cell_type": "code",
      "source": [
        "#@title 2.2 Compras por estatus de pago.\n",
        "\n",
        "df_counter(purchases3)\n",
        "\n",
        "pstatus_breakdown = purchases3.groupby(['purchase_state', 'payment_status'], dropna=False).agg({'payment_status': 'count', **purchase_columns})\n",
        "pstatus_breakdown[purchase_columns_list] = pstatus_breakdown[purchase_columns_list].apply(lambda series: series.apply(lambda value: fmt_dnum(value)) )\n",
        "pstatus_breakdown.style\n",
        "\n",
        "# to show purchases from breakdown paste 'purchases3.style' on the next line."
      ],
      "metadata": {
        "id": "5xjxKJxkNBZg"
      },
      "execution_count": null,
      "outputs": []
    },
    {
      "cell_type": "code",
      "source": [
        "#@title 2.3 Compras por procesador de pago\n",
        "#@markdown Las nan son las compras forzadas, es decir, que no pasaron por procesador de pagos.\n",
        "\n",
        "df_counter(purchases3)\n",
        "\n",
        "engine_breakdown = purchases3.groupby([\"payment_engine\"], dropna=False).agg({'payment_engine':'count', **purchase_columns})\n",
        "engine_breakdown[purchase_columns_list] = engine_breakdown[purchase_columns_list].apply(lambda series: series.apply(lambda value: fmt_dnum(value)) )\n",
        "engine_breakdown.style\n",
        "\n",
        "# to show purchases from breakdown paste 'purchases3.style' on the next line."
      ],
      "metadata": {
        "id": "Waca1FhfNBqT"
      },
      "execution_count": null,
      "outputs": []
    },
    {
      "cell_type": "code",
      "source": [
        "#@title 2.4 Compras por vendedor y canal.\n",
        "df_counter(purchases3)\n",
        "\n",
        "vendor_breakdown = purchases3.groupby(['vendor', 'channel'], dropna=False).agg({'channel':'count', **purchase_columns})\n",
        "vendor_breakdown[purchase_columns_list] = vendor_breakdown[purchase_columns_list].apply(lambda series: series.apply(lambda value: fmt_dnum(value)) )\n",
        "vendor_breakdown.style\n",
        "\n",
        "# to show purchases from breakdown paste 'purchases3.style' on the next line."
      ],
      "metadata": {
        "id": "lDOExo_iNB1O"
      },
      "execution_count": null,
      "outputs": []
    },
    {
      "cell_type": "code",
      "source": [
        "#@title 2.5 Compras con niveles de servicio.\n",
        "#@markdown\n",
        "\n",
        "nds_purchases = purchases3.query(\"service_level > 0\")\n",
        "nds_breakdown = nds_purchases.groupby(['purchase_state'], dropna=False).agg({'purchase_state':'count', **purchase_columns})\n",
        "nds_breakdown[purchase_columns_list] = nds_breakdown[purchase_columns_list].apply(lambda series: series.apply(lambda value: fmt_dnum(value)) )\n",
        "\n",
        "df_counter(nds_purchases)\n",
        "nds_breakdown.style\n",
        "\n",
        "# to show purchases from breakdown paste 'nds_purchases.style' on the next line."
      ],
      "metadata": {
        "id": "DMpWPonJNB-n"
      },
      "execution_count": null,
      "outputs": []
    },
    {
      "cell_type": "code",
      "source": [
        "#@title 2.6 Compras con seguro.\n",
        "#@markdown\n",
        "filtrar_seguro= \"desglose\" #@param [\"desglose\", \"registros\"]\n",
        "\n",
        "insurance_purchases = purchases3.query(\"insurance > 0\")\n",
        "insurance_breakdown = insurance_purchases.groupby(['purchase_state'], dropna=False).agg({'purchase_state':'count', **purchase_columns})\n",
        "insurance_breakdown[purchase_columns_list] = insurance_breakdown[purchase_columns_list].apply(lambda series: series.apply(lambda value: fmt_dnum(value)) )\n",
        "\n",
        "df_counter(insurance_purchases)\n",
        "insurance_breakdown.style\n",
        "\n",
        "insurance_breakdown.style if filtrar_seguro == 'desglose' else insurance_purchases.style\n",
        "# to show purchases from breakdown paste 'insurance_purchases.style' on the next line."
      ],
      "metadata": {
        "id": "Edf-svgxNCO_"
      },
      "execution_count": null,
      "outputs": []
    },
    {
      "cell_type": "code",
      "source": [
        "#@title 2.7 Compras con monedero.\n",
        "#@markdown\n",
        "filtrar_monedero = \"desglose\" #@param [\"desglose\", \"registros\"]\n",
        "\n",
        "wallet_purchases = purchases3.query(\"wallet > 0\")\n",
        "wallet_breakdown = wallet_purchases.groupby(['purchase_state'], dropna=False).agg({'purchase_state':'count', **purchase_columns})\n",
        "wallet_breakdown[purchase_columns_list] = wallet_breakdown[purchase_columns_list].apply(lambda series: series.apply(lambda value: fmt_dnum(value)) )\n",
        "\n",
        "df_counter(wallet_purchases)\n",
        "wallet_breakdown.style\n",
        "\n",
        "wallet_breakdown.style if filtrar_monedero == 'desglose' else wallet_purchases.style\n",
        "# to show purchases from breakdown paste 'wallet_purchases.style' on the next line."
      ],
      "metadata": {
        "id": "GyWrs0CYNPHA"
      },
      "execution_count": null,
      "outputs": []
    },
    {
      "cell_type": "code",
      "source": [
        "#@title 2.8 Compras a meses.\n",
        "#@markdown\n",
        "filtrar_meses = \"desglose\" #@param [\"desglose\", \"registros\"]\n",
        "\n",
        "interest_purchases = purchases3.query(\"interest > 0\")\n",
        "interest_breakdown = interest_purchases.groupby(['purchase_state'], dropna=False).agg({'purchase_state':'count', **purchase_columns})\n",
        "interest_breakdown[purchase_columns_list] = interest_breakdown[purchase_columns_list].apply(lambda series: series.apply(lambda value: fmt_dnum(value)) )\n",
        "\n",
        "df_counter(interest_purchases)\n",
        "interest_breakdown.style\n",
        "\n",
        "interest_breakdown.style if filtrar_meses == 'desglose' else interest_purchases.style\n",
        "# to show purchases from breakdown paste 'interest_purchases.style' on the next line."
      ],
      "metadata": {
        "id": "_ldFDGYTNPy3"
      },
      "execution_count": null,
      "outputs": []
    },
    {
      "cell_type": "code",
      "source": [
        "#@title 2.9 Compras con viajamas.\n",
        "#@markdown\n",
        "filtrar_viajamas = \"desglose\" #@param [\"desglose\", \"registros\"]\n",
        "\n",
        "viajamas_purchases = purchases3.query(\"viajamas > 0\")\n",
        "viajamas_breakdown = viajamas_purchases.groupby(['purchase_state'], dropna=False).agg({'purchase_state':'count', **purchase_columns})\n",
        "viajamas_breakdown[purchase_columns_list] = viajamas_breakdown[purchase_columns_list].apply(lambda series: series.apply(lambda value: fmt_dnum(value)) )\n",
        "\n",
        "df_counter(viajamas_purchases)\n",
        "viajamas_breakdown.style\n",
        "\n",
        "viajamas_breakdown.style if filtrar_viajamas == 'desglose' else viajamas_purchases.style\n",
        "# to show purchases from breakdown paste 'viajamas_purchases.style' on the next line."
      ],
      "metadata": {
        "id": "I5HGfYdvNP-0"
      },
      "execution_count": null,
      "outputs": []
    },
    {
      "cell_type": "markdown",
      "source": [
        "# Compras con pagos fallidos"
      ],
      "metadata": {
        "id": "EGpByQ-9N8DI"
      }
    },
    {
      "cell_type": "code",
      "source": [
        "#@title 2*.10 Compras fallidas con fecha de pago.\n",
        "#@markdown Son todas las compras fallidas, incluídas las duplicadas del 2*.2, es decir, las que estan asociadas a una misma compra, por cada pago fallido cobrado de una misma compra es posible que se cobrara el total de la misma. Se deben checar para ver si procede reembolso.\n",
        "filtrar_fallidas = \"desglose\" #@param [\"desglose\", \"registros\"]\n",
        "\n",
        "all_failed_purchases = purchases2.query(\"payment_status == 'failed'\")\n",
        "df_counter(all_failed_purchases)\n",
        "\n",
        "failed_breakdown = all_failed_purchases.groupby(basic_groupby_columns, dropna=False).agg({'payment_status':'count', **purchase_columns})\n",
        "failed_breakdown[purchase_columns_list] = failed_breakdown[purchase_columns_list].apply(lambda series: series.apply(lambda value: fmt_dnum(value)) )\n",
        "\n",
        "failed_breakdown.style if filtrar_fallidas == 'desglose' else all_failed_purchases.style"
      ],
      "metadata": {
        "cellView": "form",
        "id": "BusAeW7gNY6t"
      },
      "execution_count": null,
      "outputs": []
    },
    {
      "cell_type": "code",
      "source": [
        "#@title 2*.2 Compras fallidas con fecha de pago, compras con varios intentos de pago.\n",
        "#@markdown Se incluyen sólo las duplicadas, es decir, las más antiguas pertenecientes a una misma compra que fueron filtradas en el reporte de compras, ya que sólo se dejó el último pago asociado a una compra.\n",
        "#@markdown No están incluidas en los puntos 2.1 a 2.4, ni en el 5.1 por lo que debe revisarse si se cobraron en el reporte del procesador de pago para considerar su monto en los ingresos.\n",
        "filtrar_fallidas = \"desglose\" #@param [\"desglose\", \"registros\"]\n",
        "\n",
        "not_included_purchases_on_filtered_report = compare_cols(all_failed_purchases['payment_token'], purchases3['payment_token'])\n",
        "purchases6 = all_failed_purchases.loc[all_failed_purchases['payment_token'].isin(not_included_purchases_on_filtered_report)]\n",
        "df_counter(purchases6)\n",
        "\n",
        "dups_breakdown = purchases6.groupby(basic_groupby_columns, dropna=False).agg({'payment_status':'count', **purchase_columns})\n",
        "dups_breakdown[purchase_columns_list] = dups_breakdown[purchase_columns_list].apply(lambda series: series.apply(lambda value: fmt_dnum(value)) )\n",
        "\n",
        "adyen_dups_not_included = purchases6.query(\"payment_engine == 'adyen'\")\n",
        "dups_breakdown.style if filtrar_fallidas == 'desglose' else purchases6.style"
      ],
      "metadata": {
        "cellView": "form",
        "id": "i5W1XGISOG9i"
      },
      "execution_count": null,
      "outputs": []
    },
    {
      "cell_type": "markdown",
      "source": [
        "# 3. Boletos (bus + avión)"
      ],
      "metadata": {
        "id": "zKUmdgQWORZA"
      }
    },
    {
      "cell_type": "code",
      "source": [
        "#@title 3.1 Conteo de boletos por proveedor e ingresos.\n",
        "#@markdown Seleccionar si desea agruparlos por proveedor o por línea:\n",
        "agrupados_por = \"Línea\" #@param [\"Proveedor\", \"Línea\"]\n",
        "\n",
        "tickets_columns = {'Total':'sum', 'Nds por boleto':'sum', 'Nds x boleto (>4jul)':'sum', 'Viaja Seguro por boleto':'sum', 'Comisión (sin IVA)': 'sum', 'IVA Comisión': 'sum', 'Markup': 'sum', 'Servicio de línea': 'sum' }\n",
        "tickets_columns_list = list(tickets_columns.keys())\n",
        "\n",
        "tickets_breakdown = tickets1.groupby([agrupados_por, 'Estado de compra', 'Estado ante operador'], dropna=False).agg({'Línea':'count', **tickets_columns})\n",
        "\n",
        "tickets2 = tickets1.query(\"`Estado de compra` in ('chargeback', 'canceled')\")\n",
        "\n",
        "money_charged = tickets_breakdown['Total'].sum()\n",
        "money_not_kept = tickets2['Total'].sum()\n",
        "income = money_charged - money_not_kept\n",
        "\n",
        "df_counter(tickets1)\n",
        "print('Dinero cobrado en boletos: ' + \"${:0,.2f}\".format(money_charged))\n",
        "print('Dinero que no conservamos: ' + \"${:0,.2f}\".format(money_not_kept) + '(contracargos y cancelaciones)')\n",
        "print('Ingreso total en boletos: ' + \"${:0,.2f}\".format(income))\n",
        "\n",
        "print('* Total en la tabla es total en boleto, no de la compra')\n",
        "tickets_breakdown[tickets_columns_list] = tickets_breakdown[tickets_columns_list].apply(lambda series: series.apply(lambda value: fmt_dnum(value)) )\n",
        "tickets_breakdown.style"
      ],
      "metadata": {
        "id": "d16JLPKrOTXs"
      },
      "execution_count": null,
      "outputs": []
    },
    {
      "cell_type": "code",
      "source": [
        "#@title 3.2 Diferencias de compras entre reporte de boletos y reporte de compras.\n",
        "#@markdown Compras que no aparecen en el reporte de boletos pero sí en el de compras y viceversa.\n",
        "#@markdown Canceladas a ajustarse a meses anteriores.\n",
        "#@markdown Boletos creados y/ó completados en el mes anterior pero actualizados (cancelados) en el mes en cuestión, por lo tanto aparecen en el reporte de boletos pero no en el de compras.\n",
        "#@markdown Aparecen también boletos de compras creadas y pagadas el mes anterior pero completadas dentro del mes, como los boletos fueron creados al completarse la compra dentro del mes en cuestión aparecen en el reporte de boletos pero como el pago fue el mes anterior no aparecen en el reporte de compras. La última columna tiene la fecha de pago de algunas de las compras.\n",
        "#@markdown Aparecen también compras pagadas dentro del mes pero como fueron completadas hasta el sig mes, los boletos no aparecerán porque se crearon al completarse la compra. Aparecerán en el reporte de boletos del mes siguiente.\n",
        "diferencias_reportes = \"desglose\" #@param [\"desglose\", \"registros\"]\n",
        "\n",
        "tickets_subset = pd.DataFrame().assign(purchase_id=tickets1['ID Compra'], purchase_state=tickets1['Estado de compra'], df='boletos', amount=tickets1['Total'], ticket_type=tickets1['Estado ante operador'], date=tickets1['Compra completada CST'], paid_date='N/D')\n",
        "tickets_subset['date'] = tickets_subset['date'].str[:10]\n",
        "tickets_by_purchase = tickets_subset.groupby(['purchase_id', 'purchase_state', 'df', 'date', 'paid_date'], dropna=False).agg(ticket_count=('purchase_id', 'count'), amount=('amount', 'sum'), ticket_type=('ticket_type', lambda x: ','.join(np.unique(x)))).reset_index()\n",
        "\n",
        "purchases_purchase_ids = pd.DataFrame().assign(purchase_id=purchases3['purchase_id'], purchase_state=purchases3['purchase_state'], df='compras', ticket_count=purchases3['ticket_count'], amount=purchases3['price'], ticket_type='N/D', date=purchases3['completed_at_mx'], paid_date=purchases3['paid_at_mx'])\n",
        "purchases_purchase_ids['date'] = purchases_purchase_ids['date'].str[:10]\n",
        "purchases_purchase_ids['paid_date'] = purchases_purchase_ids['paid_date'].str[:10]\n",
        "\n",
        "reports_diffs = pd.concat([tickets_by_purchase, purchases_purchase_ids])\n",
        "reports_diffs_without_dups = reports_diffs.drop_duplicates(subset=['purchase_id'], keep=False)\n",
        "reports_diffs_subset = reports_diffs_without_dups[['df', 'purchase_id', 'purchase_state', 'ticket_count', 'ticket_type', 'amount', 'date', 'paid_date']].reset_index(drop=True)\n",
        "df_counter(reports_diffs_subset)\n",
        "\n",
        "reports_diff_breakdown = reports_diffs_subset.groupby(['df', 'purchase_state', 'ticket_type'], dropna=False).agg({'ticket_count':'count', 'amount': 'sum'})\n",
        "reports_diff_breakdown[['amount']] = reports_diff_breakdown[['amount']].apply(lambda series: series.apply(lambda value: fmt_dnum(value)) )\n",
        "\n",
        "reports_diff_breakdown.style if diferencias_reportes == 'desglose' else reports_diffs_subset.query(\"purchase_state != 'attempt'\").style"
      ],
      "metadata": {
        "cellView": "form",
        "id": "VEK5JW7yOcPX"
      },
      "execution_count": null,
      "outputs": []
    },
    {
      "cell_type": "code",
      "source": [
        "#@title 3.3.1 Boletos de autobús.\n",
        "#@markdown Ingresos por todos los boletos de autobús vendidos por Reservamos.\n",
        "\n",
        "bus_tickets = tickets1.query(\"Tipo == 'BusTicket'\")\n",
        "\n",
        "bus_tickets_breakdown = bus_tickets.groupby(['Estado de compra', 'Estado ante operador'], dropna=False).agg({'Línea':'count', **tickets_columns})\n",
        "\n",
        "bus_money_charged = bus_tickets_breakdown['Total'].sum()\n",
        "print('Dinero cobrado en boletos de autobús: ' + \"${:0,.2f}\".format(bus_money_charged) + linebr)\n",
        "print('* Total en la tabla es total en boleto, no de la compra.')\n",
        "print('* Las columnas vienen del boleto, no de la compra.')\n",
        "bus_tickets_breakdown[tickets_columns_list] = bus_tickets_breakdown[tickets_columns_list].apply(lambda series: series.apply(lambda value: fmt_dnum(value)) )\n",
        "bus_tickets_breakdown.style"
      ],
      "metadata": {
        "cellView": "form",
        "id": "audQ5cJXOfMw"
      },
      "execution_count": null,
      "outputs": []
    },
    {
      "cell_type": "code",
      "source": [
        "#@title 3.3.2 Boletos de autobús sin multicarrier.\n",
        "#@markdown Ingresos por todos los boletos de autobús vendidos por Reservamos sin boletos pertenecientes a compras multicarrier.\n",
        "\n",
        "bus_tickets_without_mix = tickets1.query(\"Tipo == 'BusTicket' and Multicarrier == False\")\n",
        "\n",
        "bus_tickets_breakdown2 = bus_tickets_without_mix.groupby(['Estado de compra', 'Estado ante operador'], dropna=False).agg({'Línea':'count', **tickets_columns})\n",
        "\n",
        "bus_money_charged2 = bus_tickets_breakdown2['Total'].sum()\n",
        "print('Dinero cobrado en boletos de autobús: ' + \"${:0,.2f}\".format(bus_money_charged2) + linebr)\n",
        "\n",
        "bus_tickets_purchases_ids = bus_tickets_without_mix['ID Compra'].values\n",
        "bus_tickets_purchases = purchases3.loc[purchases3['purchase_id'].isin(bus_tickets_purchases_ids)]\n",
        "\n",
        "bus_purchase_total = bus_tickets_purchases['purchase_total'].sum()\n",
        "bus_payment_total = bus_tickets_purchases['payment_total'].sum()\n",
        "bus_markup = bus_tickets_purchases['markup'].sum()\n",
        "bus_nds = bus_tickets_purchases['service_level'].sum()\n",
        "bus_insurance = bus_tickets_purchases['insurance'].sum()\n",
        "bus_comm = bus_tickets_purchases['commission'].sum()\n",
        "print('Ingreso total en compras de boletos de autobús: ' + \"${:0,.2f}\".format(bus_purchase_total))\n",
        "print('Ingreso total en pagos de boletos de autobús: ' + \"${:0,.2f}\".format(bus_payment_total))\n",
        "print('Markup de compras de boletos de autobús: ' + \"${:0,.2f}\".format(bus_markup))\n",
        "print('NDS de compras de boletos de autobús: ' + \"${:0,.2f}\".format(bus_nds))\n",
        "print('Seguro de compras de boletos de autobús: ' + \"${:0,.2f}\".format(bus_insurance))\n",
        "print('Comisión de compras de boletos de autobús: ' + \"${:0,.2f}\".format(bus_comm))\n",
        "\n",
        "bus_tickets_breakdown2[tickets_columns_list] = bus_tickets_breakdown2[tickets_columns_list].apply(lambda series: series.apply(lambda value: fmt_dnum(value)) )\n",
        "bus_tickets_breakdown2.style"
      ],
      "metadata": {
        "cellView": "form",
        "id": "dknKE4qgOse-"
      },
      "execution_count": null,
      "outputs": []
    },
    {
      "cell_type": "code",
      "source": [
        "#@title 3.4.1 Boletos de avión.\n",
        "#@markdown\n",
        "\n",
        "air_tickets = tickets1.query(\"Tipo == 'AirplaneTicket'\")\n",
        "\n",
        "air_tickets_breakdown = air_tickets.groupby(['Estado de compra', 'Estado ante operador'], dropna=False).agg({'Línea':'count', **tickets_columns})\n",
        "\n",
        "air_money_charged = air_tickets_breakdown['Total'].sum()\n",
        "print('Dinero cobrado en boletos aéreos: ' + \"${:0,.2f}\".format(air_money_charged))\n",
        "\n",
        "print('* Total en la tabla es total en boleto, no de la compra')\n",
        "air_tickets_breakdown[tickets_columns_list] = air_tickets_breakdown[tickets_columns_list].apply(lambda series: series.apply(lambda value: fmt_dnum(value)) )\n",
        "air_tickets_breakdown.style"
      ],
      "metadata": {
        "cellView": "form",
        "id": "pP3TxWW1Oxc1"
      },
      "execution_count": null,
      "outputs": []
    },
    {
      "cell_type": "code",
      "source": [
        "#@title 3.4.2 Boletos de avión sin multicarrier.\n",
        "#@markdown Ingresos por todos los boletos de avión vendidos por Reservamos sin boletos pertenecientes a compras multicarrier.\n",
        "\n",
        "air_tickets_without_mix = tickets1.query(\"Tipo == 'AirplaneTicket' and Multicarrier == False\")\n",
        "\n",
        "air_tickets_breakdown2 = air_tickets_without_mix.groupby(['Estado de compra', 'Estado ante operador'], dropna=False).agg({'Línea':'count', **tickets_columns})\n",
        "\n",
        "air_money_charged2 = air_tickets_breakdown2['Total'].sum()\n",
        "print('Dinero cobrado en boletos de avión: ' + \"${:0,.2f}\".format(air_money_charged2) + linebr)\n",
        "\n",
        "air_tickets_purchases_ids = air_tickets_without_mix['ID Compra'].values\n",
        "air_tickets_purchases = purchases3.loc[purchases3['purchase_id'].isin(bus_tickets_purchases_ids)]\n",
        "\n",
        "air_purchase_total = air_tickets_purchases['purchase_total'].sum()\n",
        "air_payment_total = air_tickets_purchases['payment_total'].sum()\n",
        "air_markup = air_tickets_purchases['markup'].sum()\n",
        "air_nds = air_tickets_purchases['service_level'].sum()\n",
        "air_insurance = air_tickets_purchases['insurance'].sum()\n",
        "air_comm = air_tickets_purchases['commission'].sum()\n",
        "print('Ingreso total en compras de boletos de avión: ' + \"${:0,.2f}\".format(air_purchase_total))\n",
        "print('Ingreso total en pagos de boletos de avión: ' + \"${:0,.2f}\".format(air_payment_total))\n",
        "print('Markup de compras de boletos de avión: ' + \"${:0,.2f}\".format(air_markup))\n",
        "print('NDS de compras de boletos de avión: ' + \"${:0,.2f}\".format(air_nds))\n",
        "print('Seguro de compras de boletos de avión: ' + \"${:0,.2f}\".format(air_insurance))\n",
        "print('Comisión de compras de boletos de avión: ' + \"${:0,.2f}\".format(air_comm))\n",
        "\n",
        "air_tickets_breakdown2[tickets_columns_list] = air_tickets_breakdown2[tickets_columns_list].apply(lambda series: series.apply(lambda value: fmt_dnum(value)) )\n",
        "air_tickets_breakdown2.style"
      ],
      "metadata": {
        "cellView": "form",
        "id": "Mh5Z8_BfOxq5"
      },
      "execution_count": null,
      "outputs": []
    },
    {
      "cell_type": "code",
      "source": [
        "#@title 3.5 Top 20 rutas vendidas del mes.\n",
        "#@markdown\n",
        "\n",
        "slug_tickets_breakdown = tickets1.groupby(['Cd Origen', 'Cd Destino'], dropna=False).agg(count=('Código destino', 'count')).sort_values(by=['count'], ascending=False).head(20)\n",
        "slug_tickets_breakdown.style"
      ],
      "metadata": {
        "cellView": "form",
        "id": "BaF5LgFAOx0o"
      },
      "execution_count": null,
      "outputs": []
    },
    {
      "cell_type": "markdown",
      "source": [
        "# 4. Multicarrier"
      ],
      "metadata": {
        "id": "wvpZPpEfPAzH"
      }
    },
    {
      "cell_type": "code",
      "source": [
        "#@title 4.1 Compras multicarrier.\n",
        "mix_tickets = tickets1.query(\"Multicarrier == True\")\n",
        "mix_tickets_ids = pd.unique(mix_tickets['ID Compra'].values)\n",
        "\n",
        "mix_purchases = purchases3.loc[purchases3['purchase_id'].isin(mix_tickets_ids)]\n",
        "df_counter(mix_purchases)\n",
        "\n",
        "mix_income = mix_purchases['purchase_total'].sum()\n",
        "print('Dinero ingresado por compras multicarrier: ' + \"${:0,.2f}\".format(mix_income))\n",
        "\n",
        "mix_purchases_breakdown = mix_purchases.groupby(['purchase_state', 'payment_status'], dropna=False).agg({'payment_status': 'count', **purchase_columns})\n",
        "mix_purchases_breakdown[purchase_columns_list] = mix_purchases_breakdown[purchase_columns_list].apply(lambda series: series.apply(lambda value: fmt_dnum(value)) )\n",
        "mix_purchases_breakdown.style\n"
      ],
      "metadata": {
        "cellView": "form",
        "id": "xSt4uLbnOx-Z"
      },
      "execution_count": null,
      "outputs": []
    },
    {
      "cell_type": "code",
      "source": [
        "#@title 4.2 Boletos multicarrier.\n",
        "#@markdown Boletos parte de una compra multicarrier. Seleccionar si desea agruparlos por proveedor o por línea:\n",
        "boletos_multicarrier_por = \"Proveedor\" #@param [\"Proveedor\", \"Línea\"]\n",
        "\n",
        "print(mix_tickets.shape[0])\n",
        "\n",
        "mix_tickets_income = mix_tickets['Total'].sum()\n",
        "print('Dinero ingresado por boletos multicarrier: ' + \"${:0,.2f}\".format(mix_tickets_income))\n",
        "bus_mix_tickets_income = mix_tickets.query(\"Tipo == 'BusTicket'\")['Total'].sum()\n",
        "print('Ingreso por boletos multicarrier de autobús: ' + \"${:0,.2f}\".format(bus_mix_tickets_income))\n",
        "air_mix_tickets_income = mix_tickets.query(\"Tipo == 'AirplaneTicket'\")['Total'].sum()\n",
        "print('Ingreso por boletos multicarrier de autobús: ' + \"${:0,.2f}\".format(air_mix_tickets_income))\n",
        "\n",
        "mix_purchases_breakdown = mix_tickets.groupby([boletos_multicarrier_por, 'Estado de compra', 'Estado ante operador'], dropna=False).agg({'Línea':'count', **tickets_columns})\n",
        "mix_purchases_breakdown[tickets_columns_list] = mix_purchases_breakdown[tickets_columns_list].apply(lambda series: series.apply(lambda value: fmt_dnum(value)) )\n",
        "mix_purchases_breakdown.style"
      ],
      "metadata": {
        "cellView": "form",
        "id": "Xrs02vwJPJ3j"
      },
      "execution_count": null,
      "outputs": []
    },
    {
      "cell_type": "markdown",
      "source": [
        "# 5. Adyen"
      ],
      "metadata": {
        "id": "zHQEBlQ_PSIr"
      }
    },
    {
      "cell_type": "code",
      "source": [
        "#@title 5.1 Pagos en Reservamos con Adyen.\n",
        "#@markdown Todos los pagos de Adyen en Reservamos.\n",
        "filtrar_adyen = \"desglose\" #@param [\"desglose\", \"registros\"]\n",
        "\n",
        "# filters only purchases paid by adyen.\n",
        "adyen_purchases = purchases3.query(\"payment_engine == 'adyen'\")\n",
        "\n",
        "df_counter(adyen_purchases)\n",
        "\n",
        "adyen_breakdown = adyen_purchases.groupby(basic_groupby_columns, dropna=False).agg({'payment_engine':'count', **basic_agg_columns})\n",
        "adyen_breakdown[basic_currency_columns] = adyen_breakdown[basic_currency_columns].apply(lambda series: series.apply(lambda value: fmt_dnum(value)))\n",
        "adyen_breakdown.style\n",
        "\n",
        "adyen_breakdown.style if filtrar_adyen == 'desglose' else adyen_purchases.style"
      ],
      "metadata": {
        "cellView": "form",
        "id": "rSS_CdgpPT2A"
      },
      "execution_count": null,
      "outputs": []
    },
    {
      "cell_type": "code",
      "source": [
        "#@title 5.2 Pagos en Adyen.\n",
        "#@markdown Todos los pagos en el batch del mes.\n",
        "filtrar_adyen= \"desglose\" #@param [\"desglose\", \"registros\"]\n",
        "\n",
        "adyen_df['Creation Month'] = adyen_df['Creation Date'].str[5:7]\n",
        "adyen_df['Gross Credit (GC)'] = adyen_df['Gross Credit (GC)'].replace(',', '', regex=True).astype(float)\n",
        "df_counter(adyen_df)\n",
        "\n",
        "filtered_adyen_df = adyen_df.query(f\"`Creation Date` < '{año}-{month(int(mes)+1)}-01'\")\n",
        "\n",
        "adyen_breakdown = filtered_adyen_df.groupby(['Creation Month', 'Type'], dropna=False).agg(count=('Type','count'), gross_credit=('Gross Credit (GC)','sum'), gross_debit=('Gross Debit (GC)', 'sum'))\n",
        "adyen_breakdown[['gross_credit', 'gross_debit']] = adyen_breakdown[['gross_credit', 'gross_debit']].apply(lambda series: series.apply(lambda value: fmt_dnum(value)) )\n",
        "\n",
        "monthly_adyen_df = adyen_df.sort_values(by=['Creation Date']).query(f\"`Creation Date` >= '{año}-{month(mes)}-01' and `Creation Date` < '{año}-{month(int(mes)+1)}-01' and Type == 'Settled'\").drop_duplicates(['Psp Reference'],keep='last')\n",
        "all_monthly_adyen_df = adyen_df.sort_values(by=['Creation Date']).query(f\"`Creation Date` >= '{año}-{month(mes)}-01' and `Creation Date` < '{año}-{month(int(mes)+1)}-01'\")\n",
        "\n",
        "print(\"No. transacciones en el mes:\")\n",
        "df_counter(monthly_adyen_df)\n",
        "\n",
        "adyen_breakdown.style if filtrar_adyen == 'desglose' else filtered_adyen_df.style"
      ],
      "metadata": {
        "cellView": "form",
        "id": "W7EN28oHPbby"
      },
      "execution_count": null,
      "outputs": []
    },
    {
      "cell_type": "code",
      "source": [
        "#@title 5.3 Diferencias de pagos entre Reservamos y Adyen en el mes.\n",
        "#@markdown Pagos de compras aceptadas que no aparecen en el reporte de Adyen pero sí en el de Reservamos y viceversa en el mes.<br> Diferencias se guardan en un reporte en drive en el punto 11. <br>\n",
        "#@markdown A veces la mayoría de los pagos que no aparecen en el reporte de Adyen suelen ser de amex. <br>\n",
        "#@markdown Las referencias psp pueden pertenecer a compras de un mes anterior o a compras completadas pero pagos pendientes de pasar a estatus settled. <br>\n",
        "#@markdown Las referencias PSP en el reporte de Adyen que no aparecen en el de compras, usualmente son compras donde el pago falló, se reintentó y existe un pago exitoso asociado a la compra, las que tienen estatus completed parecen ser compras con doble cobro y las que tienen estatus attempt son compras fallidas cobradas. Son las compras con pagos duplicados debido a múltiples intentos, por lo tanto tienen pagos que no están considerados en el total del reporte de compras. Totales en el punto 2.5.1, son los que deben considerarse tmb como ingresos.\n",
        "diferencias_adyen = \"desglose\" #@param [\"desglose\", \"registros\"]\n",
        "\n",
        "income_purchases_adyen = income_purchases.query(\"payment_engine == 'adyen'\")\n",
        "\n",
        "adyen_tokens = pd.DataFrame().assign(tokens=monthly_adyen_df['Psp Reference'], engine_status=monthly_adyen_df['Type'], amount=monthly_adyen_df['Gross Credit (GC)'], method=monthly_adyen_df['Payment Method'], date=monthly_adyen_df['Creation Date'], df='only_on_adyen', creation_month=monthly_adyen_df['Creation Month'])\n",
        "\n",
        "reservamos_adyen_tokens = pd.DataFrame().assign(tokens=income_purchases_adyen['payment_token'], payment_status=income_purchases_adyen['payment_status'], purchase_state=income_purchases_adyen['purchase_state'], amount=income_purchases_adyen['payment_total'], method=income_purchases_adyen['card_brand'], date=income_purchases_adyen['paid_at_mx'], df='only_on_reservamos', purchase_id=income_purchases_adyen['purchase_id'], creation_month=income_purchases_adyen['paid_at_mx'].str[5:7], ticket_count=income_purchases_adyen['ticket_count'],  engine='adyen')\n",
        "\n",
        "adyen_diffs = pd.concat([adyen_tokens, reservamos_adyen_tokens]).drop_duplicates(subset=['tokens'], keep=False)\n",
        "adyen_diffs_subset = adyen_diffs[['df', 'tokens', 'payment_status', 'amount', 'method', 'date', 'engine_status', 'purchase_id', 'ticket_count', 'engine', 'purchase_state']].reset_index(drop=True)\n",
        "df_counter(adyen_diffs_subset)\n",
        "\n",
        "adyen_diffs_subset.to_csv('adyen_diffs_subset.csv', index=False, encoding='utf-8-sig')\n",
        "\n",
        "adyen_diff_breakdown = adyen_diffs_subset.groupby(['df', 'purchase_state', 'payment_status', 'engine_status', 'method'], dropna=False).agg(count=('method','count'), amount=('amount','sum'))\n",
        "\n",
        "adyen_diff_btotal = adyen_diff_breakdown.query(\"df == 'only_on_adyen'\")['amount'].sum()\n",
        "reservamos_diff_btotal = adyen_diff_breakdown.query(\"df == 'only_on_reservamos'\")['amount'].sum()\n",
        "print('only_on_adyen: ' + str(fmt_curr(adyen_diff_btotal)))\n",
        "print('only_on_reservamos: ' + str(fmt_curr(reservamos_diff_btotal)))\n",
        "print('diferencia: ' + str(fmt_curr(reservamos_diff_btotal - adyen_diff_btotal)))\n",
        "\n",
        "adyen_diff_breakdown[['amount']] = adyen_diff_breakdown[['amount']].apply(lambda series: series.apply(lambda value: fmt_dnum(value)) )\n",
        "\n",
        "adyen_next_month_charges = adyen_diffs_subset.query(\"df == 'only_on_reservamos'\")\n",
        "\n",
        "adyen_diff_breakdown.style if diferencias_adyen == 'desglose' else adyen_diffs_subset.style"
      ],
      "metadata": {
        "cellView": "form",
        "id": "D6EQMj0ePbmp"
      },
      "execution_count": null,
      "outputs": []
    },
    {
      "cell_type": "code",
      "source": [
        "#@title 5.4 Transacciones fallidas en Reservamos de Adyen.\n",
        "#@markdown Todos los pagos fallidos de Adyen en nuestro sistema. <br> Pagos con Type Settled son pagos que Adyen sí cobró. <br> Las Type nan no fueron encontradas en el reporte de Adyen, por eso no tienen tipo.<br> Las Compras para checar se guardan en un reporte en drive en el punto 11.\n",
        "fallidas_en_procesador = \"desglose\" #@param [\"desglose\", \"registros\"]\n",
        "\n",
        "adyen_failed = purchases2.query(\"payment_status == 'failed' and payment_engine == 'adyen'\")\n",
        "adyen_failed2 = pd.merge(adyen_failed, adyen_df[['Psp Reference','Type']], how='left', left_on=['payment_token'], right_on=['Psp Reference'])\n",
        "\n",
        "df_counter(adyen_failed)\n",
        "\n",
        "failed_adyen_breakdown1 = adyen_failed2.groupby(['purchase_state', 'payment_status', 'Type'], dropna=False).agg({'payment_status':'count', **basic_agg_columns})\n",
        "failed_adyen_breakdown2 = adyen_failed2.groupby(['purchase_id', 'purchase_state', 'payment_status', 'Type'], dropna=False).agg({'payment_status':'count', **basic_agg_columns})\n",
        "\n",
        "failed_adyen_breakdown1[basic_currency_columns] = failed_adyen_breakdown1[basic_currency_columns].apply(lambda series: series.apply(lambda value: fmt_dnum(value)) )\n",
        "failed_adyen_breakdown2[basic_currency_columns] = failed_adyen_breakdown2[basic_currency_columns].apply(lambda series: series.apply(lambda value: fmt_dnum(value)) )\n",
        "\n",
        "missing_refund = adyen_failed2.sort_values(by=['purchase_id']).drop_duplicates(['purchase_id'],keep=False)\n",
        "missing_refund_subset = pd.DataFrame().assign(tokens=missing_refund['payment_token'], engine_status=missing_refund['Type'], payment_status=missing_refund['payment_status'], amount=missing_refund['payment_total'], method=missing_refund['card_brand'], date=missing_refund['paid_at_mx'], df='only_on_reservamos', purchase_id=missing_refund['purchase_id'], status_check='pending', updated_at=pd.to_datetime('now'))\n",
        "\n",
        "print(linebr + 'Compras para checar:')\n",
        "df_counter(missing_refund_subset)\n",
        "\n",
        "failed_adyen_breakdown1.style if fallidas_en_procesador == 'desglose' else failed_adyen_breakdown2.style"
      ],
      "metadata": {
        "cellView": "form",
        "id": "e37HUUFsPbuq"
      },
      "execution_count": null,
      "outputs": []
    },
    {
      "cell_type": "code",
      "source": [
        "#@title 5.5 Diferencias en montos cargados entre reporte de Adyen y Reservamos.\n",
        "#@markdown Diferencias de centavos entre el total del cargo hecho en el reporte de compras y el total del cargo en el reporte del procesador de pago, en transacciones exitosas del mes.\n",
        "diferencias_en_procesador = \"desglose\" #@param [\"desglose\", \"registros\"]\n",
        "\n",
        "purchase_adyen_totals = adyen_purchases[['purchase_id', 'purchase_state', 'payment_status', 'payment_engine', 'vendor', 'channel', 'payment_token', 'ticket_count', 'purchase_total', 'payment_total']]\n",
        "\n",
        "adyen_totals = monthly_adyen_df[['Psp Reference', 'Gross Credit (GC)']]\n",
        "\n",
        "adyen_totals_df = pd.merge(purchase_adyen_totals, adyen_totals, how='inner', left_on = 'payment_token', right_on = 'Psp Reference')\n",
        "\n",
        "adyen_totals_df['total_diff'] = adyen_totals_df.payment_total - adyen_totals_df['Gross Credit (GC)']\n",
        "\n",
        "adyen_totals_subset = adyen_totals_df.query('total_diff != 0')[['purchase_id', 'purchase_state', 'payment_status', 'payment_engine', 'vendor', 'channel', 'payment_token', 'payment_total', 'Gross Credit (GC)', 'total_diff', 'ticket_count']]\n",
        "\n",
        "adyen_totals_breakdown = adyen_totals_subset.groupby(['purchase_state', 'payment_status'], dropna=False).agg(count=('payment_status','count'), payment_total=('payment_total', 'sum'), adyen_total=('Gross Credit (GC)', 'sum'), total_diff=('total_diff', 'sum'))\n",
        "adyen_total = adyen_totals_breakdown['adyen_total'].sum()\n",
        "adyen_payment_total = adyen_totals_breakdown['payment_total'].sum()\n",
        "\n",
        "adyen_totals_breakdown[['payment_total', 'adyen_total', 'total_diff']] = adyen_totals_breakdown[['payment_total', 'adyen_total', 'total_diff']].apply(lambda series: series.apply(lambda value: fmt_dnum(value)) )\n",
        "\n",
        "df_counter(adyen_totals_subset)\n",
        "\n",
        "diff_print(adyen_total, adyen_payment_total)\n",
        "\n",
        "adyen_totals_breakdown.style if diferencias_en_procesador == 'desglose' else adyen_totals_subset.style"
      ],
      "metadata": {
        "cellView": "form",
        "id": "4qtu_txbPb0-"
      },
      "execution_count": null,
      "outputs": []
    },
    {
      "cell_type": "code",
      "source": [
        "#@title 5.6 Resumen Adyen\n",
        "#@markdown\n",
        "\n",
        "adyen_payment_amount = adyen_purchases['payment_total'].sum()\n",
        "\n",
        "adyen_total_amount = monthly_adyen_df['Gross Credit (GC)'].sum()\n",
        "\n",
        "diff_print(adyen_total_amount, adyen_payment_amount)\n",
        "\n",
        "print(linebr + 'No. de transacciones procesadas por Adyen en el mes: ' + str(monthly_adyen_df.shape[0]) + '  (reporte de adyen)')\n",
        "adyen_income_on_adyen = monthly_adyen_df[\"Gross Credit (GC)\"].sum()\n",
        "print('Dinero procesado por Adyen en el mes: ' + \"${:0,.2f}\".format(adyen_income_on_adyen) + linebr)\n",
        "\n",
        "print('No. de transacciones procesadas en Reservamos por Adyen en el mes: ' + str(adyen_purchases.shape[0]))\n",
        "adyen_income_on_admin = adyen_purchases[\"payment_total\"].sum()\n",
        "print('Dinero procesado por Reservamos a través de Adyen en el mes: ' + \"${:0,.2f}\".format(adyen_income_on_admin) + linebr)\n",
        "\n",
        "unsettled_money = adyen_next_month_charges['amount'].sum()\n",
        "print('No. de transacciones procesadas en Reservamos pendientes en Adyen en el mes: ' + str(adyen_next_month_charges.shape[0]))\n",
        "print('Dinero procesado por Reservamos que falta procesar en Adyen: ' + \"${:0,.2f}\".format(unsettled_money) + linebr)\n",
        "\n",
        "print('No. de transacciones procesadas realmente en Reservamos por Adyen en el mes: ' + str(adyen_purchases.shape[0] - adyen_next_month_charges.shape[0]) + f'  ({adyen_purchases.shape[0]} - {adyen_next_month_charges.shape[0]})')\n",
        "money_charged_on_reservamos = adyen_income_on_admin - unsettled_money\n",
        "# Suma de referencias Psp que no aparecen en el reporte de Adyen pero sí en nuestro reporte de compras.\n",
        "print('Dinero realmente procesado por Reservamos en el mes: ' + \"${:0,.2f}\".format(money_charged_on_reservamos) + f'  ({\"${:0,.2f}\".format(adyen_income_on_admin)} - {\"${:0,.2f}\".format(unsettled_money)})'  + linebr)\n",
        "\n",
        "failed_payments = adyen_failed.shape[0]\n",
        "failed_income = adyen_failed[\"payment_total\"].sum()\n",
        "print('No. total de transacciones fallidas en Reservamos a través de Adyen en el mes: ' + str(failed_payments))\n",
        "print('Dinero cobrado por Adyen de pagos fallidos en Reservamos: ' + \"${:0,.2f}\".format(failed_income)  + linebr)\n",
        "\n",
        "dups_not_included = adyen_dups_not_included['payment_total'].sum()\n",
        "print('No. de transacciones fallidas en Reservamos a través de Adyen en el mes, no incluidas en el reporte de compras por tener otro pago falllido o exitoso asociado: ' + str(adyen_dups_not_included.shape[0]))\n",
        "print('Dinero cobrado por Adyen por cobros múltiples fallidos en Reservamos y reembolsado: ' + \"${:0,.2f}\".format(dups_not_included)  + linebr)\n",
        "\n",
        "#print('No. de transacciones procesadas en Reservamos por Adyen en el mes menos las fallidas duplicadas asociadas a una compra con otro pago: ' + str(adyen_purchases.shape[0] - adyen_dups_not_included.shape[0]) + '  (reporte de compras filtrado)')\n",
        "#print('Dinero procesado por Reservamos a través de Adyen en el mes menos las fallidas duplicadas asociadas a una compra con otro pago: ' + \"${:0,.2f}\".format(adyen_income_on_admin - dups_not_included) + linebr)\n",
        "\n",
        "money_diff = adyen_income_on_adyen - money_charged_on_reservamos - dups_not_included\n",
        "print('Diferencia: ' + \"${:0,.2f}\".format(money_diff) + f'  ({\"${:0,.2f}\".format(adyen_income_on_adyen)} - ({\"${:0,.2f}\".format(money_charged_on_reservamos)} + {\"${:0,.2f}\".format(dups_not_included)}))' + linebr)\n",
        "\n",
        "adyen_breakdown = all_monthly_adyen_df.groupby([\"Type\"], dropna=False)[[\"Gross Credit (GC)\", \"Gross Debit (GC)\"]].sum()\n",
        "adyen_breakdown[[\"Gross Credit (GC)\", \"Gross Debit (GC)\"]] = adyen_breakdown[[\"Gross Credit (GC)\", \"Gross Debit (GC)\"]].apply(lambda series: series.apply(lambda value: f\"{value:,}\") )\n",
        "adyen_breakdown.style"
      ],
      "metadata": {
        "cellView": "form",
        "id": "KbDny198Pb59"
      },
      "execution_count": null,
      "outputs": []
    },
    {
      "cell_type": "markdown",
      "source": [
        "# *. MercadoPago"
      ],
      "metadata": {
        "id": "gzoB_zvOwrC9"
      }
    },
    {
      "cell_type": "code",
      "source": [
        "#@title *.1 Pagos en Reservamos con MercadoPago.\n",
        "#@markdown Todos los pagos de MercadoPago.\n",
        "diferencias_openpay = \"desglose\" #@param [\"desglose\", \"registros\"]\n",
        "\n",
        "# filters only purchases paid by openpay on filtered purchase report.\n",
        "openpay_purchases = purchases3.query(\"payment_method == 'mercado_pago'\")\n",
        "\n",
        "df_counter(openpay_purchases)\n",
        "\n",
        "reservamos_openpay_breakdown= openpay_purchases.groupby(['purchase_state', 'payment_status', 'payment_method'], dropna=False).agg({'payment_method':'count', **basic_agg_columns})\n",
        "reservamos_openpay_breakdown[basic_currency_columns] = reservamos_openpay_breakdown[basic_currency_columns].apply(lambda series: series.apply(lambda value: fmt_dnum(value)) )\n",
        "reservamos_openpay_breakdown.style\n",
        "\n",
        "reservamos_openpay_breakdown.style if diferencias_openpay == 'desglose' else openpay_purchases.style"
      ],
      "metadata": {
        "id": "HGbLWrJRwm6N"
      },
      "execution_count": null,
      "outputs": []
    },
    {
      "cell_type": "markdown",
      "source": [
        "# 6. Openpay"
      ],
      "metadata": {
        "id": "oGxIIMQ4PvTG"
      }
    },
    {
      "cell_type": "code",
      "source": [
        "#@title 6.1 Pagos en Reservamos con Openpay.\n",
        "#@markdown Todos los pagos de Paypal en Openpay.\n",
        "diferencias_openpay = \"desglose\" #@param [\"desglose\", \"registros\"]\n",
        "\n",
        "# filters only purchases paid by openpay on filtered purchase report.\n",
        "openpay_purchases = purchases3.query(\"payment_engine == 'open_pay'\")\n",
        "\n",
        "df_counter(openpay_purchases)\n",
        "\n",
        "reservamos_openpay_breakdown= openpay_purchases.groupby(['purchase_state', 'payment_status', 'payment_engine'], dropna=False).agg({'payment_engine':'count', **basic_agg_columns})\n",
        "reservamos_openpay_breakdown[basic_currency_columns] = reservamos_openpay_breakdown[basic_currency_columns].apply(lambda series: series.apply(lambda value: fmt_dnum(value)) )\n",
        "reservamos_openpay_breakdown.style\n",
        "\n",
        "reservamos_openpay_breakdown.style if diferencias_openpay == 'desglose' else openpay_purchases.style"
      ],
      "metadata": {
        "id": "tvR4WAiEPb-G"
      },
      "execution_count": null,
      "outputs": []
    },
    {
      "cell_type": "code",
      "source": [
        "#@title 6.2 Pagos en Openpay.\n",
        "#@markdown\n",
        "\n",
        "filtered_openpay_df = openpay_df.query(\"category == 'charge' and status == 'completed' and order_id == order_id\")\n",
        "filtered_openpay_df2 = filtered_openpay_df[filtered_openpay_df['order_id'].str.contains('RSRBS-')]\n",
        "\n",
        "df_counter(filtered_openpay_df2)\n",
        "\n",
        "filtered_openpay_df2['amount'] = filtered_openpay_df2['amount'].replace(regex=',', value='').astype(float)\n",
        "\n",
        "openpay_breakdown = filtered_openpay_df2.groupby(['category', 'status'], dropna=False).agg({'status':'count','amount':'sum'})\n",
        "openpay_breakdown[[\"amount\"]] = openpay_breakdown[[\"amount\"]].apply(lambda series: series.apply(lambda value: fmt_dnum(value)) )\n",
        "openpay_breakdown.style\n",
        "\n",
        "# to show purchases from breakdown paste 'filtered_openpay_df2.style' at the end of the file."
      ],
      "metadata": {
        "cellView": "form",
        "id": "CNiqvcp3PcCz"
      },
      "execution_count": null,
      "outputs": []
    },
    {
      "cell_type": "code",
      "source": [
        "#@title 6.3 Diferencias de pagos entre Reservamos y Openpay.\n",
        "#@markdown Pagos que no aparecen en el reporte de Openpay pero sí en el de Reservamos y viceversa.\n",
        "diferencias_openpay = \"desglose\" #@param [\"desglose\", \"registros\"]\n",
        "\n",
        "openpay_tokens = pd.DataFrame().assign(tokens=filtered_openpay_df2['transaction_id'], payment_status=filtered_openpay_df2['status'], amount=filtered_openpay_df2['amount'], method=filtered_openpay_df2['brand'], date=filtered_openpay_df2['creation_date'], df='only_on_openpay')\n",
        "\n",
        "reservamos_openpay_tokens = pd.DataFrame().assign(tokens=openpay_purchases['payment_token'], payment_status=openpay_purchases['payment_status'], amount=openpay_purchases['payment_total'], method=openpay_purchases['card_brand'], date=openpay_purchases['paid_at_mx'], ticket_count=openpay_purchases['ticket_count'], df='only_on_reservamos', engine='openpay')\n",
        "\n",
        "openpay_diffs = pd.concat([openpay_tokens, reservamos_openpay_tokens]).drop_duplicates(subset=['tokens'], keep=False)\n",
        "openpay_diffs_subset = openpay_diffs[['df', 'tokens', 'payment_status', 'amount', 'method', 'date', 'ticket_count', 'engine']].reset_index(drop=True)\n",
        "df_counter(openpay_diffs_subset)\n",
        "\n",
        "openpay_next_month_charges = openpay_diffs_subset.query(\"df == 'only_on_reservamos'\")\n",
        "\n",
        "openpay_diff_breakdown = openpay_diffs_subset.groupby(['df', 'payment_status', 'method'], dropna=False).agg({'method':'count', 'amount': sum})\n",
        "openpay_diff_breakdown[['amount']] = openpay_diff_breakdown[['amount']].apply(lambda series: series.apply(lambda value: fmt_dnum(value)) )\n",
        "\n",
        "openpay_diff_breakdown.style if diferencias_openpay == 'desglose' else openpay_diffs_subset.style"
      ],
      "metadata": {
        "cellView": "form",
        "id": "c4Ji3AbzP2OM"
      },
      "execution_count": null,
      "outputs": []
    },
    {
      "cell_type": "code",
      "source": [
        "#@title 6.4 Compras fallidas en Reservamos de Openpay.\n",
        "#@markdown\n",
        "\n",
        "openpay_failed = purchases3.query(\"payment_status == 'failed' and payment_engine == 'openpay'\")\n",
        "openpay_failed2 = pd.merge(openpay_failed, openpay_df[['transaction_id','status']], how='left', left_on=['payment_token'], right_on=['transaction_id'])\n",
        "\n",
        "df_counter(openpay_failed2)\n",
        "\n",
        "failed_openpay_breakdown = openpay_failed2.groupby(['purchase_state', 'payment_status', 'status'], dropna=False).agg({'payment_status':'count', **basic_agg_columns})\n",
        "failed_openpay_breakdown[basic_currency_columns] = failed_openpay_breakdown[basic_currency_columns].apply(lambda series: series.apply(lambda value: fmt_dnum(value)) )\n",
        "failed_openpay_breakdown.style\n",
        "\n",
        "# to show purchases from breakdown paste 'openpay_failed2.style' at the end of the file."
      ],
      "metadata": {
        "cellView": "form",
        "id": "kKGpmDuTP2bd"
      },
      "execution_count": null,
      "outputs": []
    },
    {
      "cell_type": "code",
      "source": [
        "#@title 6.5 Diferencias en montos entre reporte de Openpay y Reservamos.\n",
        "#@markdown Diferencias de centavos entre el total del cargo hecho en el reporte de compras y el total del cargo en el reporte del procesador de pago.\n",
        "diferencias_en_procesador = \"desglose\" #@param [\"desglose\", \"registros\"]\n",
        "\n",
        "purchase_openpay_totals = openpay_purchases[['purchase_id', 'purchase_state', 'payment_status', 'payment_engine', 'vendor', 'channel', 'payment_token', 'ticket_count', 'purchase_total', 'payment_total']]\n",
        "\n",
        "openpay_totals = filtered_openpay_df2[['order_id', 'amount']]\n",
        "\n",
        "openpay_totals_df = pd.merge(purchase_openpay_totals, openpay_totals, how='inner', left_on = 'payment_token', right_on = 'order_id')\n",
        "\n",
        "openpay_totals_df['total_diff'] = openpay_totals_df.payment_total - openpay_totals_df['amount']\n",
        "\n",
        "openpay_totals_subset = openpay_totals_df.query('total_diff != 0')[['purchase_id', 'purchase_state', 'payment_status', 'payment_engine', 'vendor', 'channel', 'payment_token', 'payment_total', 'amount', 'total_diff', 'ticket_count']]\n",
        "\n",
        "openpay_totals_breakdown = openpay_totals_subset.groupby(['purchase_state', 'payment_status'], dropna=False).agg(count=('payment_status','count'), payment_total=('payment_total', 'sum'), openpay_total=('amount', 'sum'), total_diff=('total_diff', 'sum'))\n",
        "openpay_total = openpay_totals_breakdown['openpay_total'].sum()\n",
        "openpay_payment_total = openpay_totals_breakdown['payment_total'].sum()\n",
        "\n",
        "openpay_totals_breakdown[['payment_total', 'openpay_total', 'total_diff']] = openpay_totals_breakdown[['payment_total', 'openpay_total', 'total_diff']].apply(lambda series: series.apply(lambda value: fmt_dnum(value)) )\n",
        "\n",
        "df_counter(openpay_totals_subset)\n",
        "diff_print(openpay_total, openpay_payment_total)\n",
        "\n",
        "openpay_totals_breakdown.style if diferencias_en_procesador == 'desglose' else openpay_totals_subset.style"
      ],
      "metadata": {
        "cellView": "form",
        "id": "YST-hUtfP2mh"
      },
      "execution_count": null,
      "outputs": []
    },
    {
      "cell_type": "code",
      "source": [
        "#@title 6.6 Resumen Openpay\n",
        "#@markdown\n",
        "\n",
        "openpay_payment_amount = 0 if openpay_purchases.empty else openpay_purchases['payment_total'].sum()\n",
        "\n",
        "openpay_total_amount = 0 if filtered_openpay_df.empty else filtered_openpay_df2['amount'].sum()\n",
        "\n",
        "diff_print(openpay_total_amount, openpay_payment_amount)"
      ],
      "metadata": {
        "cellView": "form",
        "id": "eV7c37boP-8Q"
      },
      "execution_count": null,
      "outputs": []
    },
    {
      "cell_type": "markdown",
      "source": [
        "# 7. Conekta"
      ],
      "metadata": {
        "id": "Zz96PW-oQL93"
      }
    },
    {
      "cell_type": "code",
      "source": [
        "#@title 7.1 Pagos en Reservamos con Conekta.\n",
        "#@markdown Todos los pagos de Paypal en Conekta.\n",
        "diferencias_conekta = \"desglose\" #@param [\"desglose\", \"registros\"]\n",
        "\n",
        "# filters only purchases paid by conekta on filtered purchase report.\n",
        "conekta_purchases = purchases3.query(\"payment_engine == 'conekta'\")\n",
        "\n",
        "df_counter(conekta_purchases)\n",
        "\n",
        "reservamos_conekta_breakdown = conekta_purchases.groupby(['purchase_state', 'payment_status', 'payment_engine'], dropna=False).agg({'payment_engine':'count','purchase_total':'sum','payment_total':'sum'})\n",
        "reservamos_conekta_breakdown[[\"purchase_total\", \"payment_total\"]] = reservamos_conekta_breakdown[[\"purchase_total\", \"payment_total\"]].apply(lambda series: series.apply(lambda value: fmt_dnum(value)) )\n",
        "reservamos_conekta_breakdown.style\n",
        "\n",
        "reservamos_conekta_breakdown.style if diferencias_conekta == 'desglose' else conekta_purchases.style"
      ],
      "metadata": {
        "cellView": "form",
        "id": "lb5QUF5eP_KN"
      },
      "execution_count": null,
      "outputs": []
    },
    {
      "cell_type": "code",
      "source": [
        "#@title 7.2 Pagos en Conekta.\n",
        "#@markdown\n",
        "\n",
        "filtered_conekta_df = conekta_df.query(\"tipo_transaccion == 'cargo' and estatus == 'paid'\")\n",
        "\n",
        "df_counter(filtered_conekta_df)\n",
        "\n",
        "conekta_breakdown = filtered_conekta_df.groupby(['tipo_transaccion', 'estatus'], dropna=False).agg({'estatus':'count','monto_cargo':'sum'})\n",
        "conekta_breakdown[[\"monto_cargo\"]] = conekta_breakdown[[\"monto_cargo\"]].apply(lambda series: series.apply(lambda value: fmt_dnum(value)) )\n",
        "conekta_breakdown.style\n"
      ],
      "metadata": {
        "cellView": "form",
        "id": "jdcd0_3YP_RI"
      },
      "execution_count": null,
      "outputs": []
    },
    {
      "cell_type": "code",
      "source": [
        "#@title 7.3 Diferencias de pagos entre Reservamos y Conekta.\n",
        "#@markdown Pagos que no aparecen en el reporte de Conekta pero sí en el de Reservamos y viceversa.\n",
        "diferencias_conekta = \"registros\" #@param [\"desglose\", \"registros\"]\n",
        "\n",
        "conekta_tokens = pd.DataFrame().assign(tokens=filtered_conekta_df['id_orden'], payment_status=filtered_conekta_df['estatus'], amount=filtered_conekta_df['monto_cargo'], method=filtered_conekta_df['metodo_pago'], date=filtered_conekta_df['fecha_pago'], df='only_on_conekta')\n",
        "\n",
        "reservamos_conekta_tokens = pd.DataFrame().assign(tokens=conekta_purchases['payment_token'], payment_status=conekta_purchases['payment_status'], amount=conekta_purchases['payment_total'], method=conekta_purchases['card_brand'], date=conekta_purchases['paid_at_mx'], ticket_count=conekta_purchases['ticket_count'], df='only_on_reservamos', engine='conekta')\n",
        "\n",
        "conekta_diffs = pd.concat([conekta_tokens, reservamos_conekta_tokens]).drop_duplicates(subset=['tokens'], keep=False)\n",
        "conekta_diffs_subset = conekta_diffs[['df', 'tokens', 'payment_status', 'amount', 'method', 'date', 'ticket_count', 'engine']].reset_index(drop=True)\n",
        "df_counter(conekta_diffs_subset)\n",
        "\n",
        "conekta_next_month_charges = conekta_diffs_subset.query(\"df == 'only_on_reservamos'\")\n",
        "\n",
        "conekta_diff_breakdown = conekta_diffs_subset.groupby(['df', 'payment_status', 'method'], dropna=False).agg({'method':'count', 'amount': sum})\n",
        "conekta_diff_breakdown[['amount']] = conekta_diff_breakdown[['amount']].apply(lambda series: series.apply(lambda value: fmt_dnum(value)) )\n",
        "\n",
        "conekta_diff_breakdown.style if diferencias_conekta == 'desglose' else conekta_diffs_subset.style"
      ],
      "metadata": {
        "cellView": "form",
        "id": "fCkYgFlDQbIS"
      },
      "execution_count": null,
      "outputs": []
    },
    {
      "cell_type": "code",
      "source": [
        "#@title 7.4 Compras fallidas en Reservamos de Conekta.\n",
        "#@markdown Probablemente cobradas por el procesador de pagos.\n",
        "\n",
        "conekta_failed = purchases3.query(\"payment_status == 'failed' and payment_engine == 'conekta'\")\n",
        "conekta_failed2 = pd.merge(conekta_failed, conekta_df[['id_orden','estatus']], how='left', left_on=['payment_token'], right_on=['id_orden'])\n",
        "\n",
        "df_counter(conekta_failed2)\n",
        "\n",
        "failed_conekta_breakdown = conekta_failed2.groupby(['purchase_state', 'payment_status', 'estatus'], dropna=False).agg({'payment_status':'count', **basic_agg_columns})\n",
        "failed_conekta_breakdown[basic_currency_columns] = failed_conekta_breakdown[basic_currency_columns].apply(lambda series: series.apply(lambda value: fmt_dnum(value)) )\n",
        "failed_conekta_breakdown.style\n",
        "\n",
        "# to show purchases from breakdown paste 'conekta_failed2.style' at the end of the file."
      ],
      "metadata": {
        "cellView": "form",
        "id": "DxJKPs0qQbVb"
      },
      "execution_count": null,
      "outputs": []
    },
    {
      "cell_type": "code",
      "source": [
        "#@title 7.5 Diferencias en montos entre reporte de Conekta y Reservamos.\n",
        "#@markdown Diferencias de centavos entre el total del cargo hecho en el reporte de compras y el total del cargo en el reporte del procesador de pago.\n",
        "diferencias_en_procesador = \"desglose\" #@param [\"desglose\", \"registros\"]\n",
        "\n",
        "purchase_conekta_totals = conekta_purchases[['purchase_id', 'purchase_state', 'payment_status', 'payment_engine', 'vendor', 'channel', 'payment_token', 'ticket_count', 'purchase_total', 'payment_total']]\n",
        "\n",
        "conekta_totals = filtered_conekta_df[['id_orden', 'monto_cargo']]\n",
        "\n",
        "conekta_totals_df = pd.merge(purchase_conekta_totals, conekta_totals, how='inner', left_on = 'payment_token', right_on = 'id_orden')\n",
        "\n",
        "conekta_totals_df['total_diff'] = conekta_totals_df.payment_total - conekta_totals_df['monto_cargo']\n",
        "\n",
        "conekta_totals_subset = conekta_totals_df.query('total_diff != 0')[['purchase_id', 'purchase_state', 'payment_status', 'payment_engine', 'vendor', 'channel', 'payment_token', 'payment_total', 'monto_cargo', 'total_diff', 'ticket_count']]\n",
        "\n",
        "conekta_totals_breakdown = conekta_totals_subset.groupby(['purchase_state', 'payment_status'], dropna=False).agg(count=('payment_status','count'), payment_total=('payment_total', 'sum'), conekta_total=('monto_cargo', 'sum'), total_diff=('total_diff', 'sum'))\n",
        "conekta_total = conekta_totals_breakdown['conekta_total'].sum()\n",
        "conekta_payment_total = conekta_totals_breakdown['payment_total'].sum()\n",
        "\n",
        "conekta_totals_breakdown[['payment_total', 'conekta_total', 'total_diff']] = conekta_totals_breakdown[['payment_total', 'conekta_total', 'total_diff']].apply(lambda series: series.apply(lambda value: fmt_dnum(value)) )\n",
        "\n",
        "df_counter(conekta_totals_subset)\n",
        "diff_print(conekta_total, conekta_payment_total)\n",
        "\n",
        "conekta_totals_breakdown.style if diferencias_en_procesador == 'desglose' else conekta_totals_subset.style"
      ],
      "metadata": {
        "cellView": "form",
        "id": "CPX9AC3QQbfo"
      },
      "execution_count": null,
      "outputs": []
    },
    {
      "cell_type": "code",
      "source": [
        "#@title 7.6 Resumen Conekta\n",
        "#@markdown\n",
        "\n",
        "conekta_payment_amount = conekta_purchases['payment_total'].sum()\n",
        "\n",
        "conekta_total_amount = filtered_conekta_df['monto_cargo'].sum()\n",
        "\n",
        "diff_print(conekta_total_amount, conekta_payment_amount)"
      ],
      "metadata": {
        "cellView": "form",
        "id": "IznizkFMQbqS"
      },
      "execution_count": null,
      "outputs": []
    },
    {
      "cell_type": "markdown",
      "source": [
        "# 8. Paypal"
      ],
      "metadata": {
        "id": "p_6gixfZQmBY"
      }
    },
    {
      "cell_type": "code",
      "source": [
        "#@title 8.1 Pagos en Reservamos con Paypal.\n",
        "#@markdown Todos los pagos de Paypal en Reservamos.\n",
        "diferencias_paypal = \"desglose\" #@param [\"desglose\", \"registros\"]\n",
        "\n",
        "# filters only purchases paid by Paypal on filtered purchase report.\n",
        "paypal_purchases = purchases3.query(\"payment_engine == 'paypal'\")\n",
        "\n",
        "df_counter(paypal_purchases)\n",
        "\n",
        "reservamos_paypal_breakdown = paypal_purchases.groupby(basic_groupby_columns, dropna=False).agg({'payment_engine':'count', **basic_agg_columns})\n",
        "reservamos_paypal_breakdown[basic_currency_columns] = reservamos_paypal_breakdown[basic_currency_columns].apply(lambda series: series.apply(lambda value: fmt_dnum(value)) )\n",
        "\n",
        "reservamos_paypal_breakdown.style if diferencias_paypal == 'desglose' else paypal_purchases.style"
      ],
      "metadata": {
        "id": "zg9b_sAEQm9d"
      },
      "execution_count": null,
      "outputs": []
    },
    {
      "cell_type": "code",
      "source": [
        "#@title 8.2 Pagos en Paypal.\n",
        "#@markdown Todos los pagos en el reporte de Paypal.\n",
        "diferencias_paypal = \"desglose\" #@param [\"desglose\", \"registros\"]\n",
        "\n",
        "filtered_paypal_df = paypal_df.query(\"Tipo == 'Pago con Pagos Exprés' and Estado == 'Completado'\")\n",
        "filtered_paypal_df['Bruto'] = filtered_paypal_df['Bruto'].replace(',', '', regex=True).astype(float)\n",
        "\n",
        "df_counter(filtered_paypal_df)\n",
        "\n",
        "paypal_breakdown = filtered_paypal_df.groupby(['Tipo', 'Estado'], dropna=False).agg({'Estado':'count','Bruto':'sum'})\n",
        "paypal_breakdown[[\"Bruto\"]] = paypal_breakdown[[\"Bruto\"]].apply(lambda series: series.apply(lambda value: fmt_dnum(value)) )\n",
        "\n",
        "paypal_breakdown.style if diferencias_paypal == 'desglose' else filtered_paypal_df.style"
      ],
      "metadata": {
        "cellView": "form",
        "id": "GVblsu9RQnHd"
      },
      "execution_count": null,
      "outputs": []
    },
    {
      "cell_type": "code",
      "source": [
        "#@title 8.3 Diferencias de pagos entre Reservamos y Paypal.\n",
        "#@markdown Pagos que no aparecen en el reporte de Paypal pero sí en el de Reservamos y viceversa.\n",
        "diferencias_paypal = \"desglose\" #@param [\"desglose\", \"registros\"]\n",
        "\n",
        "paypal_tokens = pd.DataFrame().assign(tokens=filtered_paypal_df['Id. de transacción'], payment_status=filtered_paypal_df['Estado'], amount=filtered_paypal_df['Bruto'], date=filtered_paypal_df['Fecha'], df='only_on_paypal')\n",
        "\n",
        "reservamos_paypal_tokens = pd.DataFrame().assign(tokens=paypal_purchases['paypal_transaction_id'], payment_status=paypal_purchases['payment_status'], amount=paypal_purchases['payment_total'], date=paypal_purchases['paid_at_mx'], ticket_count=paypal_purchases['ticket_count'], df='only_on_reservamos', engine='paypal')\n",
        "\n",
        "paypal_diffs = pd.concat([paypal_tokens, reservamos_paypal_tokens]).drop_duplicates(subset=['tokens'], keep=False)\n",
        "paypal_diffs_subset = paypal_diffs[['df', 'tokens', 'payment_status', 'amount', 'date', 'ticket_count', 'engine']].reset_index(drop=True)\n",
        "df_counter(paypal_diffs_subset)\n",
        "\n",
        "paypal_next_month_charges = paypal_diffs_subset.query(\"df == 'only_on_reservamos'\")\n",
        "\n",
        "paypal_diff_breakdown = paypal_diffs_subset.groupby(['df', 'payment_status'], dropna=False).agg({'payment_status':'count', 'amount': sum})\n",
        "paypal_diff_breakdown[['amount']] = paypal_diff_breakdown[['amount']].apply(lambda series: series.apply(lambda value: fmt_dnum(value)) )\n",
        "\n",
        "paypal_diff_breakdown.style if diferencias_paypal == 'desglose' else paypal_diffs_subset.style"
      ],
      "metadata": {
        "cellView": "form",
        "id": "Oru7a1_IQnQ9"
      },
      "execution_count": null,
      "outputs": []
    },
    {
      "cell_type": "code",
      "source": [
        "#@title 8.4 Compras fallidas de Paypal en nuestro reporte de compras.\n",
        "#@markdown\n",
        "diferencias_paypal = \"registros\" #@param [\"desglose\", \"registros\"]\n",
        "\n",
        "paypal_failed = purchases3.query(\"payment_status == 'failed' and payment_engine == 'paypal'\")\n",
        "paypal_failed2 = pd.merge(paypal_failed, paypal_df[['Id. de transacción','Estado']], how='left', left_on=['payment_token'], right_on=['Id. de transacción'])\n",
        "\n",
        "df_counter(paypal_failed2)\n",
        "\n",
        "failed_paypal_breakdown = paypal_failed2.groupby(['purchase_state', 'payment_status', 'Estado'], dropna=False).agg({'payment_status':'count', **basic_agg_columns})\n",
        "failed_paypal_breakdown[basic_currency_columns] = failed_paypal_breakdown[basic_currency_columns].apply(lambda series: series.apply(lambda value: fmt_dnum(value)) )\n",
        "\n",
        "failed_paypal_breakdown.style if diferencias_paypal == 'desglose' else paypal_failed2.style"
      ],
      "metadata": {
        "cellView": "form",
        "id": "YL8zPhZDQnYI"
      },
      "execution_count": null,
      "outputs": []
    },
    {
      "cell_type": "code",
      "source": [
        "#@title 8.5 Diferencias en montos entre reporte de Paypal y Reservamos.\n",
        "#@markdown Diferencias de centavos entre el total del cargo hecho en el reporte de compras y el total del cargo en el reporte del procesador de pago.\n",
        "diferencias_en_procesador = \"desglose\" #@param [\"desglose\", \"registros\"]\n",
        "\n",
        "purchase_paypal_totals = paypal_purchases[['purchase_id', 'purchase_state', 'payment_status', 'payment_engine', 'vendor', 'channel', 'payment_token', 'ticket_count', 'purchase_total', 'payment_total']]\n",
        "\n",
        "paypal_totals = filtered_paypal_df[['Id. de transacción', 'Bruto']]\n",
        "\n",
        "paypal_totals_df = pd.merge(purchase_paypal_totals, paypal_totals, how='inner', left_on = 'payment_token', right_on = 'Id. de transacción')\n",
        "\n",
        "paypal_totals_df['total_diff'] = paypal_totals_df.payment_total - paypal_totals_df['Bruto']\n",
        "\n",
        "paypal_totals_subset = paypal_totals_df.query('total_diff != 0')[['purchase_id', 'purchase_state', 'payment_status', 'payment_engine', 'vendor', 'channel', 'payment_token', 'payment_total', 'Bruto', 'total_diff', 'ticket_count']]\n",
        "\n",
        "paypal_totals_breakdown = paypal_totals_subset.groupby(['purchase_state', 'payment_status'], dropna=False).agg(count=('payment_status','count'), payment_total=('payment_total', 'sum'), paypal_total=('Bruto', 'sum'), total_diff=('total_diff', 'sum'))\n",
        "paypal_total = paypal_totals_breakdown['paypal_total'].sum()\n",
        "paypal_payment_total = paypal_totals_breakdown['payment_total'].sum()\n",
        "\n",
        "paypal_totals_breakdown[['payment_total', 'paypal_total', 'total_diff']] = paypal_totals_breakdown[['payment_total', 'paypal_total', 'total_diff']].apply(lambda series: series.apply(lambda value: fmt_dnum(value)) )\n",
        "\n",
        "df_counter(paypal_totals_subset)\n",
        "diff_print(paypal_total, paypal_payment_total)\n",
        "\n",
        "paypal_totals_breakdown.style if diferencias_en_procesador == 'desglose' else paypal_totals_subset.style"
      ],
      "metadata": {
        "cellView": "form",
        "id": "JO4uSItkQ37F"
      },
      "execution_count": null,
      "outputs": []
    },
    {
      "cell_type": "code",
      "source": [
        "#@title 8.6 Resumen Paypal\n",
        "#@markdown\n",
        "\n",
        "paypal_payment_amount = paypal_purchases['payment_total'].sum()\n",
        "\n",
        "paypal_total_amount = filtered_paypal_df['Bruto'].sum()\n",
        "\n",
        "diff_print(paypal_total_amount, paypal_payment_amount)"
      ],
      "metadata": {
        "cellView": "form",
        "id": "90X7oI9wQ4J0"
      },
      "execution_count": null,
      "outputs": []
    },
    {
      "cell_type": "code",
      "source": [
        "#@title Cuentas finales\n",
        "#purchases4 = purchases3.query(\"purchase_state in ('completed', 'pending') and payment_status == 'charged'\")\n",
        "\n",
        "purchases5 = purchases3.query(\"purchase_state == 'completed' and payment_status == 'nopayment'\")\n",
        "\n",
        "money_processed_by_reservamos = purchases3['payment_total'].sum()\n",
        "money_processed_on_engines = adyen_income_on_adyen + openpay_payment_amount + conekta_payment_amount + paypal_payment_amount\n",
        "forced_purchases = purchases5['purchase_total'].sum()\n",
        "actual_income = money_processed_on_engines + forced_purchases\n",
        "\n",
        "print('Dinero que Reservamos mandó a procesadores de pago: ' + fmt_curr(money_processed_by_reservamos) + \"  (compras con pago en el mes)\")\n",
        "print('Dinero efectivo en procesadores de pago: ' + fmt_curr(money_processed_on_engines) + \"  (compras con pago en el mes en los procesadores)\")\n",
        "print('Diferencia: ' + fmt_curr(money_processed_by_reservamos - money_processed_on_engines) + linebr)\n",
        "\n",
        "print('Dinero pendiente por procesar en Adyen: ' + fmt_curr(adyen_payment_amount - adyen_total_amount) + \"  (compras que problablemente aparecerán sig mes, checarlas)\" + linebr)\n",
        "\n",
        "print('Ingreso total compras forzadas: ' + fmt_curr(forced_purchases) + \"  (compras con estatus completado sin pago en el mes)\")\n",
        "print('Ingreso total: ' + fmt_curr(actual_income) + \"  (dinero en procesadores + compras forzadas)\" + linebr)\n",
        "\n",
        "print('TOTALES DE RESERVAMOS, no está cuadrado con las compras pendientes de procesar por los procesadores de pago:')\n",
        "markup = purchases3['markup'].sum()\n",
        "nds = purchases3['service_level'].sum()\n",
        "insurance = purchases3['insurance'].sum()\n",
        "wallet = purchases3['wallet'].sum()\n",
        "interests = purchases3['interest'].sum()\n",
        "comm = purchases3['commission'].sum()\n",
        "wallet = purchases3['wallet'].sum()\n",
        "discount = purchases3['discount'].sum()\n",
        "print('Markup: ' + fmt_curr(markup) + \"  (compras con pago en el mes)\")\n",
        "print('NDS: ' + fmt_curr(nds) + \"  (compras con pago en el mes)\")\n",
        "print('Seguro: ' + fmt_curr(insurance) + \"  (compras con pago en el mes)\")\n",
        "print('Intereses de cargos diferidos: ' + fmt_curr(interests) + \"  (compras con pago en el mes)\")\n",
        "print('Comisión: ' + fmt_curr(comm) + \"  (compras con pago en el mes)\")\n",
        "print('Descuentos: ' + fmt_curr(discount) + \"  (compras con pago en el mes)\")\n",
        "print('Monedero: ' + fmt_curr(discount) + \"  (compras con pago en el mes)\" + linebr)\n"
      ],
      "metadata": {
        "cellView": "form",
        "id": "kpPavagxQ4Py"
      },
      "execution_count": null,
      "outputs": []
    },
    {
      "cell_type": "markdown",
      "source": [
        "# 9. Monedero"
      ],
      "metadata": {
        "id": "keW3yFxXRAI0"
      }
    },
    {
      "cell_type": "code",
      "source": [
        "#@title 9.1 Monedero procesado durante el mes\n",
        "\n",
        "sorted_wallet = wallet_df.sort_values(by=['email', 'created_at'])\n",
        "sorted_wallet.loc[:, 'year'] = sorted_wallet.created_at.str[0:4]\n",
        "sorted_wallet.loc[:, 'month'] = sorted_wallet.created_at.str[5:7]\n",
        "\n",
        "sorted_wallet2 = sorted_wallet.query(f\"year == '{año}' and month == '{month(mes)}'\")\n",
        "\n",
        "monthly_wallet_amount_breakdown = sorted_wallet2.groupby(['year', 'month', 'category'], dropna=False).agg(total=('amount', 'sum'))\n",
        "monthly_wallet_amount_breakdown[['total']] = monthly_wallet_amount_breakdown[['total']].apply(lambda series: series.apply(lambda value: fmt_dnum(value)) )\n",
        "monthly_wallet_amount_breakdown.style"
      ],
      "metadata": {
        "id": "_cpxvXHURBDO"
      },
      "execution_count": null,
      "outputs": []
    },
    {
      "cell_type": "code",
      "source": [
        "#@title 9.2 Top 20 usuarios (lealtad).\n",
        "#@markdown Usuarios con más puntos sólo acumulados por compras durante el mes.\n",
        "\n",
        "def sumUp(serie):\n",
        "  result = 0\n",
        "  for index, value in serie.iterrows():\n",
        "    if value['category'] in ['deposit']:\n",
        "      result += value['amount']\n",
        "  return result\n",
        "\n",
        "wallet_df2 = sorted_wallet2.groupby(['email'], dropna=False).apply(lambda x: pd.Series({'cashback': sumUp(x[['amount', 'category']])}))\n",
        "sorted_wallet3 = wallet_df2.sort_values(by=['cashback'], ascending=False).head(20)\n",
        "\n",
        "print(sorted_wallet3)"
      ],
      "metadata": {
        "id": "U0Z2bCcGRBKo"
      },
      "execution_count": null,
      "outputs": []
    },
    {
      "cell_type": "code",
      "source": [
        "#@title 9.3 Top 20 usuarios (créditos).\n",
        "#@markdown Usuarios con más puntos sólo acumulados por reembolsos durante el mes.\n",
        "\n",
        "def sumUp(serie):\n",
        "  result = 0\n",
        "  for index, value in serie.iterrows():\n",
        "    if value['category'] in ['credit']:\n",
        "      result += value['amount']\n",
        "  return result\n",
        "\n",
        "wallet_df3 = sorted_wallet2.groupby(['email'], dropna=False).apply(lambda x: pd.Series({'crédito': sumUp(x[['amount', 'category']])}))\n",
        "sorted_wallet4 = wallet_df3.sort_values(by=['crédito'], ascending=False).head(20)\n",
        "\n",
        "print(sorted_wallet4)"
      ],
      "metadata": {
        "id": "LplPbJjbOKzh"
      },
      "execution_count": null,
      "outputs": []
    },
    {
      "cell_type": "markdown",
      "source": [
        "# 10. Resumen"
      ],
      "metadata": {
        "id": "5kIP_UEwRO6s"
      }
    },
    {
      "cell_type": "markdown",
      "source": [
        "## 10.1 Compras"
      ],
      "metadata": {
        "id": "L58ZbJrBRbdu"
      }
    },
    {
      "cell_type": "code",
      "source": [
        "#@title 10.1.1 Compras por tipo de compra.\n",
        "#@markdown Compras que tengan pagos exitosos. <br>\n",
        "\n",
        "purchas_type_breakdown = income_purchases.groupby(['purchase_state'], dropna=False).agg(transacciones=('vendor','count'), boletos=('ticket_count','sum'), total_compra=('payment_total','sum'))\n",
        "\n",
        "purchas_type_breakdown.loc['TOTAL']= purchas_type_breakdown.sum(numeric_only=True, axis=0)\n",
        "purchas_type_breakdown[['transacciones', 'boletos']] = purchas_type_breakdown[['transacciones', 'boletos']].apply(lambda series: series.apply(lambda value: fmt_num(value)) )\n",
        "purchas_type_breakdown[['total_compra']] = purchas_type_breakdown[['total_compra']].apply(lambda series: series.apply(lambda value: fmt_dnum(value)) )\n",
        "purchas_type_breakdown.style\n",
        "\n",
        "# to show purchases from breakdown paste 'purchas_type_df.style' on the next line."
      ],
      "metadata": {
        "id": "-Y1-WRXORBQX"
      },
      "execution_count": null,
      "outputs": []
    },
    {
      "cell_type": "code",
      "source": [
        "#@title 10.1.2 Compras por vendedor.\n",
        "#@markdown Compras que tengan pagos exitosos. <br>\n",
        "\n",
        "vendor_breakdown = income_purchases.groupby(['vendor'], dropna=False).agg(transacciones=('vendor','count'), boletos=('ticket_count','sum'), total_compra=('payment_total','sum'), total_viaje=('trip_total','sum'))\n",
        "#vendor_breakdown.loc['column_total']= vendor_breakdown.sum()\n",
        "\n",
        "vendor_breakdown.loc['TOTAL']= vendor_breakdown.sum(numeric_only=True, axis=0)\n",
        "vendor_breakdown[['transacciones', 'boletos']] = vendor_breakdown[['transacciones', 'boletos']].apply(lambda series: series.apply(lambda value: fmt_num(value)) )\n",
        "vendor_breakdown[['total_compra', 'total_viaje']] = vendor_breakdown[['total_compra', 'total_viaje']].apply(lambda series: series.apply(lambda value: fmt_dnum(value)) )\n",
        "vendor_breakdown.style\n",
        "\n",
        "# to show purchases from breakdown paste 'income_purchases.style' on the next line."
      ],
      "metadata": {
        "id": "vErVtOYoRBl9"
      },
      "execution_count": null,
      "outputs": []
    },
    {
      "cell_type": "code",
      "source": [
        "#@title 10.1.3 Compras por tipo de transporte.\n",
        "#@markdown - Separado por bus, avión y mix (mezcla de los anteriores). <br>\n",
        "#@markdown - Multicarrier bus-bus o avión-avión se cuenta como bus ó avión respectivamente. <br>\n",
        "#@markdown - Compras con pagos exitosos.\n",
        "\n",
        "income_purchases.loc[:, 'transportation_type'] = np.where(\n",
        "    income_purchases['type'].str.contains('AirplanePurchase'), np.where(income_purchases['type'].str.contains('BusPurchase'), 'mix', 'air'), 'bus')\n",
        "\n",
        "transportation_type_breakdown = income_purchases.groupby(['transportation_type'], dropna=False).agg(transacciones=('purchase_id','count'), boletos=('ticket_count','sum'), total_compra=('payment_total','sum'))\n",
        "\n",
        "transportation_type_breakdown.loc['TOTAL']= transportation_type_breakdown.sum(numeric_only=True, axis=0)\n",
        "transportation_type_breakdown[['transacciones', 'boletos']] = transportation_type_breakdown[['transacciones', 'boletos']].apply(lambda series: series.apply(lambda value: fmt_num(value)) )\n",
        "transportation_type_breakdown[['total_compra']] = transportation_type_breakdown[['total_compra']].apply(lambda series: series.apply(lambda value: fmt_dnum(value)) )\n",
        "transportation_type_breakdown.style\n"
      ],
      "metadata": {
        "cellView": "form",
        "id": "tf7ZrBrRRnuJ"
      },
      "execution_count": null,
      "outputs": []
    },
    {
      "cell_type": "markdown",
      "source": [
        "##10.2 GMV"
      ],
      "metadata": {
        "id": "qApPWttCRy1x"
      }
    },
    {
      "cell_type": "code",
      "source": [
        "#@title 10.2.1.1 GMV Total\n",
        "#@markdown - Compras con pagos exitosos. <br>\n",
        "#@markdown - mix se refiere a compra con mix de proveedores, p.e. \"Grupo Etn-Turistar,Grupo Flecha Amarilla\"\n",
        "\n",
        "#add transporter columns\n",
        "airline_ids = [1261]\n",
        "def find_transporter_name(id):\n",
        "  if int(id) in airline_ids:\n",
        "    return 'viva'\n",
        "  else:\n",
        "    return bus_transporters_df.loc[bus_transporters_df['id'] == int(id), 'name'].values[0]\n",
        "\n",
        "income_purchases.loc[:, \"uniq_transporter_names\"] = income_purchases.transporter.apply(lambda x: find_transporter_name(x) if ',' not in str(x) else ','.join(sorted(set(find_transporter_name(y) for y in(x.split(','))))))\n",
        "income_purchases.loc[:, \"transporter_mix\"] = income_purchases.uniq_transporter_names.apply(lambda x: x if ',' not in str(x) else 'mix')\n",
        "\n",
        "#income_purchases.to_csv(r'income_purchases.csv', header=True)\n",
        "#files.download('income_purchases.csv')\n",
        "\n",
        "num_columns = ['transacciones', 'boletos']\n",
        "dnum_columns = ['total_compra', 'total_viaje', 'nds', 'seguro', 'markup', 'comisión', 'monedero', 'descuentos', 'intereses', 'viajamas']\n",
        "\n",
        "total_gmv_breakdown = income_purchases.groupby(['transporter_mix'], dropna=False).agg(transacciones=('purchase_id','count'), boletos=('ticket_count','sum'), total_compra=('payment_total','sum'), total_viaje=('trip_total','sum'), nds=('service_level','sum'), seguro=('insurance','sum'), markup=('markup','sum'), comisión=('commission','sum'), monedero=('wallet','sum'), descuentos=('discount','sum'), intereses=('interest','sum'), viajamas=('viajamas','sum'))\n",
        "\n",
        "total_gmv_breakdown.loc['TOTAL']= total_gmv_breakdown.sum(numeric_only=True, axis=0)\n",
        "total_gmv_breakdown[num_columns] = total_gmv_breakdown[num_columns].apply(lambda series: series.apply(lambda value: fmt_num(value)) )\n",
        "total_gmv_breakdown[dnum_columns] = total_gmv_breakdown[dnum_columns].apply(lambda series: series.apply(lambda value: fmt_dnum(value)) )\n",
        "total_gmv_breakdown.style\n"
      ],
      "metadata": {
        "id": "Hv-Gy4dFRn2f"
      },
      "execution_count": null,
      "outputs": []
    },
    {
      "cell_type": "code",
      "source": [
        "#@title 10.2.1.2 GMV Total por día.\n",
        "#@markdown - Compras con pagos exitosos. <br>\n",
        "#@markdown - mix se refiere a compra con mix de proveedores, p.e. \"Grupo Etn-Turistar,Grupo Flecha Amarilla\"\n",
        "\n",
        "num_columns = ['transacciones', 'boletos']\n",
        "dnum_columns = ['total_compra', 'total_viaje', 'nds', 'seguro', 'markup', 'comisión', 'monedero', 'descuentos', 'intereses', 'viajamas']\n",
        "\n",
        "print(income_purchases['paid_at_mx'].head())\n",
        "\n",
        "def parse_datetime(value):\n",
        "    # First, try to parse the value using the format \"%Y-%m-%d %H:%M:%S.%f\"\n",
        "    try:\n",
        "        return pd.to_datetime(value, format='%Y-%m-%d %H:%M:%S.%f')\n",
        "    except ValueError:\n",
        "        pass  # If parsing with the first format fails, continue to the next one\n",
        "\n",
        "    # If parsing with the first format fails, try parsing using the format \"%Y-%m-%d %H:%M:%S\"\n",
        "    try:\n",
        "        return pd.to_datetime(value, format='%Y-%m-%d %H:%M:%S')\n",
        "    except ValueError:\n",
        "        # If parsing with both formats fails, return None\n",
        "        return None\n",
        "\n",
        "daily_total_gmv_breakdown = income_purchases.groupby(income_purchases['paid_at_mx'].apply(parse_datetime).dt.date).agg(transacciones=('purchase_id','count'), boletos=('ticket_count','sum'), total_compra=('payment_total','sum'), total_viaje=('trip_total','sum'), nds=('service_level','sum'), seguro=('insurance','sum'), markup=('markup','sum'), comisión=('commission','sum'), monedero=('wallet','sum'), descuentos=('discount','sum'), intereses=('interest','sum'), viajamas=('viajamas','sum'))\n",
        "\n",
        "daily_total_gmv_breakdown.loc['TOTAL']= daily_total_gmv_breakdown.sum(numeric_only=True, axis=0)\n",
        "daily_total_gmv_breakdown[num_columns] = daily_total_gmv_breakdown[num_columns].apply(lambda series: series.apply(lambda value: fmt_num(value)) )\n",
        "daily_total_gmv_breakdown[dnum_columns] = daily_total_gmv_breakdown[dnum_columns].apply(lambda series: series.apply(lambda value: fmt_dnum(value)) )\n",
        "daily_total_gmv_breakdown.style\n"
      ],
      "metadata": {
        "id": "9F7MXMwZR2eV"
      },
      "execution_count": null,
      "outputs": []
    },
    {
      "cell_type": "code",
      "source": [
        "#@title 10.2.1.3 GMV Total por día y línea.\n",
        "#@markdown - Compras con pago exitoso. <br>\n",
        "#@markdown - mix se refiere a compra con mix de proveedores, p.e. \"Grupo Etn-Turistar,Grupo Flecha Amarilla\"\n",
        "\n",
        "daily_total_gmv_breakdown = income_purchases.groupby([income_purchases['paid_at_mx'].apply(parse_datetime).dt.date, 'uniq_transporter_names']).agg(transacciones=('purchase_id','count'), boletos=('ticket_count','sum'), total_compra=('payment_total','sum'), total_viaje=('trip_total','sum'), nds=('service_level','sum'), seguro=('insurance','sum'), markup=('markup','sum'), comisión=('commission','sum'), monedero=('wallet','sum'), descuentos=('discount','sum'), intereses=('interest','sum'), viajamas=('viajamas','sum'))\n",
        "\n",
        "daily_total_gmv_breakdown[num_columns] = daily_total_gmv_breakdown[num_columns].apply(lambda series: series.apply(lambda value: fmt_num(value)) )\n",
        "daily_total_gmv_breakdown[dnum_columns] = daily_total_gmv_breakdown[dnum_columns].apply(lambda series: series.apply(lambda value: fmt_dnum(value)) )\n",
        "daily_total_gmv_breakdown.style"
      ],
      "metadata": {
        "id": "0VqZ_2rFR2mC"
      },
      "execution_count": null,
      "outputs": []
    },
    {
      "cell_type": "code",
      "source": [
        "#@title 10.2.2 GMV Reservamos\n",
        "#@markdown - Compras con pago exitoso. <br>\n",
        "#@markdown - mix se refiere a compra con mix de proveedores, p.e. \"Grupo Etn-Turistar,Grupo Flecha Amarilla\"\n",
        "\n",
        "reservamos_income_purchases = income_purchases.query(\"vendor == 'reservamos'\")\n",
        "reservamos_gmv_breakdown = reservamos_income_purchases.groupby(['transporter_mix'], dropna=False).agg(transacciones=('purchase_id','count'), boletos=('ticket_count','sum'), total_compra=('payment_total','sum'), total_viaje=('trip_total','sum'), nds=('service_level','sum'), seguro=('insurance','sum'), markup=('markup','sum'), comisión=('commission','sum'), monedero=('wallet','sum'), descuentos=('discount','sum'), intereses=('interest','sum'), viajamas=('viajamas','sum'))\n",
        "\n",
        "reservamos_gmv_breakdown.loc['TOTAL']= reservamos_gmv_breakdown.sum(numeric_only=True, axis=0)\n",
        "reservamos_gmv_breakdown[num_columns] = reservamos_gmv_breakdown[num_columns].apply(lambda series: series.apply(lambda value: fmt_num(value)) )\n",
        "reservamos_gmv_breakdown[dnum_columns] = reservamos_gmv_breakdown[dnum_columns].apply(lambda series: series.apply(lambda value: fmt_dnum(value)) )\n",
        "reservamos_gmv_breakdown.style"
      ],
      "metadata": {
        "id": "y9TRMUaAQ_u-"
      },
      "execution_count": null,
      "outputs": []
    },
    {
      "cell_type": "code",
      "source": [
        "#@title 10.2.3 GMV Viva\n",
        "#@markdown - Compras con pago exitoso. <br>\n",
        "#@markdown - mix se refiere a compra con mix de proveedores, p.e. \"Grupo Etn-Turistar,Grupo Flecha Amarilla\"\n",
        "\n",
        "viva_income_purchases = income_purchases.query(\"vendor == 'viva'\")\n",
        "viva_gmv_breakdown = viva_income_purchases.groupby(['transporter_mix'], dropna=False).agg(transacciones=('purchase_id','count'), boletos=('ticket_count','sum'), total_compra=('payment_total','sum'), total_viaje=('trip_total','sum'), nds=('service_level','sum'), seguro=('insurance','sum'), markup=('markup','sum'), comisión=('commission','sum'), monedero=('wallet','sum'), descuentos=('discount','sum'), intereses=('interest','sum'), viajamas=('viajamas','sum'))\n",
        "\n",
        "viva_gmv_breakdown.loc['TOTAL']= viva_gmv_breakdown.sum(numeric_only=True, axis=0)\n",
        "viva_gmv_breakdown[num_columns] = viva_gmv_breakdown[num_columns].apply(lambda series: series.apply(lambda value: fmt_num(value)) )\n",
        "viva_gmv_breakdown[dnum_columns] = viva_gmv_breakdown[dnum_columns].apply(lambda series: series.apply(lambda value: fmt_dnum(value)) )\n",
        "viva_gmv_breakdown.style"
      ],
      "metadata": {
        "id": "QvYIUaq2SERi"
      },
      "execution_count": null,
      "outputs": []
    },
    {
      "cell_type": "code",
      "source": [
        "#@title 10.2.4.1 GMV Manuales\n",
        "#@markdown - Compras con pago exitoso. <br>\n",
        "#@markdown - mix se refiere a compra con mix de proveedores, p.e. \"Grupo Etn-Turistar,Grupo Flecha Amarilla\"\n",
        "\n",
        "manual_income_purchases = income_purchases[income_purchases['uniq_transporter_names'].str.contains('(Grupo ADO|Grupo Senda|Grupo Tap|Grupo Omnibus de México|Grupo Transpaís|Grupo Estrella Blanca|Greyhound)', regex=True)]\n",
        "manual_gmv_breakdown = manual_income_purchases.groupby(['transporter_mix'], dropna=False).agg(transacciones=('purchase_id','count'), boletos=('ticket_count','sum'), total_compra=('payment_total','sum'), total_viaje=('trip_total','sum'), nds=('service_level','sum'), seguro=('insurance','sum'), markup=('markup','sum'), comisión=('commission','sum'), monedero=('wallet','sum'), descuentos=('discount','sum'), intereses=('interest','sum'), viajamas=('viajamas','sum'))\n",
        "\n",
        "#print(manual_income_purchases.query(\"transporter_mix == 'mix'\"))\n",
        "manual_gmv_breakdown.loc['TOTAL']= manual_gmv_breakdown.sum(numeric_only=True, axis=0)\n",
        "manual_gmv_breakdown[num_columns] = manual_gmv_breakdown[num_columns].apply(lambda series: series.apply(lambda value: fmt_num(value)) )\n",
        "manual_gmv_breakdown[dnum_columns] = manual_gmv_breakdown[dnum_columns].apply(lambda series: series.apply(lambda value: fmt_dnum(value)) )\n",
        "manual_gmv_breakdown.style"
      ],
      "metadata": {
        "id": "O7BXkBObSEeL"
      },
      "execution_count": null,
      "outputs": []
    },
    {
      "cell_type": "code",
      "source": [
        "#@title 10.2.4.2 GMV Aliados\n",
        "#@markdown - Compras con pago exitoso. <br>\n",
        "#@markdown - mix se refiere a compra con mix de proveedores, p.e. \"Grupo Etn-Turistar,Grupo Flecha Amarilla\"\n",
        "\n",
        "ally_income_purchases = income_purchases[income_purchases['uniq_transporter_names'].str.contains('(Grupo ADO|Grupo Senda|Grupo Tap|Grupo Omnibus de México|Grupo Transpaís|Grupo Estrella Blanca|Greyhound)') == False]\n",
        "ally_gmv_breakdown = ally_income_purchases.groupby(['transporter_mix'], dropna=False).agg(transacciones=('purchase_id','count'), boletos=('ticket_count','sum'), total_compra=('payment_total','sum'), total_viaje=('trip_total','sum'), nds=('service_level','sum'), seguro=('insurance','sum'), markup=('markup','sum'), comisión=('commission','sum'), monedero=('wallet','sum'), descuentos=('discount','sum'), intereses=('interest','sum'), viajamas=('viajamas','sum'))\n",
        "\n",
        "#print(ally_income_purchases.query(\"transporter_mix == 'mix'\"))\n",
        "ally_gmv_breakdown.loc['TOTAL']= ally_gmv_breakdown.sum(numeric_only=True, axis=0)\n",
        "ally_gmv_breakdown[num_columns] = ally_gmv_breakdown[num_columns].apply(lambda series: series.apply(lambda value: fmt_num(value)) )\n",
        "ally_gmv_breakdown[dnum_columns] = ally_gmv_breakdown[dnum_columns].apply(lambda series: series.apply(lambda value: fmt_dnum(value)) )\n",
        "ally_gmv_breakdown.style"
      ],
      "metadata": {
        "id": "eodD68AtSEk5"
      },
      "execution_count": null,
      "outputs": []
    },
    {
      "cell_type": "code",
      "source": [
        "#@title 10.2.5 GMV Multicarrier mix\n",
        "#@markdown Compras con pago exitoso.\n",
        "\n",
        "mix_income_purchases = income_purchases.query(\"transporter_mix == 'mix'\")\n",
        "mix_gmv_breakdown = mix_income_purchases.groupby(['uniq_transporter_names'], dropna=False).agg(transacciones=('purchase_id','count'), boletos=('ticket_count','sum'), total_compra=('payment_total','sum'), total_viaje=('trip_total','sum'), nds=('service_level','sum'), seguro=('insurance','sum'), markup=('markup','sum'), comisión=('commission','sum'), monedero=('wallet','sum'), descuentos=('discount','sum'), intereses=('interest','sum'), viajamas=('viajamas','sum'))\n",
        "\n",
        "mix_gmv_breakdown.loc['TOTAL']= mix_gmv_breakdown.sum(numeric_only=True, axis=0)\n",
        "mix_gmv_breakdown[num_columns] = mix_gmv_breakdown[num_columns].apply(lambda series: series.apply(lambda value: fmt_num(value)) )\n",
        "mix_gmv_breakdown[dnum_columns] = mix_gmv_breakdown[dnum_columns].apply(lambda series: series.apply(lambda value: fmt_dnum(value)) )\n",
        "mix_gmv_breakdown.style"
      ],
      "metadata": {
        "id": "RMahOeosSEpu"
      },
      "execution_count": null,
      "outputs": []
    },
    {
      "cell_type": "code",
      "source": [
        "#@title 10.2.6 GMV por procesador\n",
        "#@markdown - Compras con pagos exitosos. <br>\n",
        "#@markdown - mix se refiere a compra con mix de proveedores, p.e. \"Grupo Etn-Turistar,Grupo Flecha Amarilla\"\n",
        "\n",
        "income_purchases.loc[income_purchases['payment_method'] == 'adyen', [\"adyen\"]] = income_purchases.payment_total\n",
        "income_purchases.loc[income_purchases['payment_method'] == 'open_pay', [\"open_pay\"]] = income_purchases.payment_total\n",
        "income_purchases.loc[income_purchases['payment_method'] == 'conekta', [\"conekta\"]] = income_purchases.payment_total\n",
        "income_purchases.loc[income_purchases['payment_method'] == 'paypal', [\"paypal\"]] = income_purchases.payment_total\n",
        "income_purchases.loc[income_purchases['payment_method'] == 'mercado_pago', [\"mercado_pago\"]] = income_purchases.payment_total\n",
        "\n",
        "\n",
        "engine_gmv_breakdown = income_purchases.groupby(['transporter_mix']).agg(adyen=('adyen', 'sum'), open_pay=('open_pay', 'sum'), conekta=('conekta', 'sum'), paypal=('paypal', 'sum'), mercado_pago=('mercado_pago', 'sum'))\n",
        "\n",
        "engine_gmv_breakdown.loc['TOTAL']= engine_gmv_breakdown.sum(numeric_only=True, axis=0)\n",
        "engine_gmv_breakdown[['adyen', 'open_pay', 'conekta', 'paypal', 'mercado_pago']] = engine_gmv_breakdown[['adyen', 'open_pay', 'conekta', 'paypal', 'mercado_pago']].apply(lambda series: series.apply(lambda value: fmt_dnum(value)) )\n",
        "engine_gmv_breakdown.style"
      ],
      "metadata": {
        "id": "ADtqCWNrSTgx"
      },
      "execution_count": null,
      "outputs": []
    },
    {
      "cell_type": "markdown",
      "source": [
        "##10.3 Comisiones"
      ],
      "metadata": {
        "id": "2B5bIweuSc3k"
      }
    },
    {
      "cell_type": "code",
      "source": [
        "#@title 10.3.1 Comisiones totales\n",
        "#@markdown Compras con pago exitoso.\n",
        "\n",
        "commission_breakdown = income_purchases.groupby(['transporter_mix'], dropna=False).agg(comisión=('commission','sum'))\n",
        "\n",
        "commission_breakdown.loc['TOTAL']= commission_breakdown.sum(numeric_only=True, axis=0)\n",
        "commission_breakdown[['comisión']] = commission_breakdown[['comisión']].apply(lambda series: series.apply(lambda value: fmt_dnum(value)) )\n",
        "commission_breakdown.style"
      ],
      "metadata": {
        "id": "ab5bbS7LSTvw"
      },
      "execution_count": null,
      "outputs": []
    },
    {
      "cell_type": "code",
      "source": [
        "#@title 10.3.2 Comisiones Reservamos\n",
        "#@markdown Compras con pago exitoso.\n",
        "\n",
        "reservamos_commission_breakdown = reservamos_income_purchases.groupby(['transporter_mix'], dropna=False).agg(comisión=('commission','sum'))\n",
        "\n",
        "reservamos_commission_breakdown.loc['TOTAL']= reservamos_commission_breakdown.sum(numeric_only=True, axis=0)\n",
        "reservamos_commission_breakdown[['comisión']] = reservamos_commission_breakdown[['comisión']].apply(lambda series: series.apply(lambda value: fmt_dnum(value)) )\n",
        "reservamos_commission_breakdown.style"
      ],
      "metadata": {
        "cellView": "form",
        "id": "7SuUpZXqST31"
      },
      "execution_count": null,
      "outputs": []
    },
    {
      "cell_type": "code",
      "source": [
        "#@title 10.3.3 Comisiones Viva\n",
        "#@markdown Sólo compras aceptadas.\n",
        "\n",
        "viva_commission_breakdown = viva_income_purchases.groupby(['transporter_mix'], dropna=False).agg(comisión=('commission','sum'))\n",
        "\n",
        "viva_commission_breakdown.loc['TOTAL']= viva_commission_breakdown.sum(numeric_only=True, axis=0)\n",
        "viva_commission_breakdown[['comisión']] = viva_commission_breakdown[['comisión']].apply(lambda series: series.apply(lambda value: fmt_dnum(value)) )\n",
        "viva_commission_breakdown.style"
      ],
      "metadata": {
        "cellView": "form",
        "id": "KumUIdJWSUCt"
      },
      "execution_count": null,
      "outputs": []
    },
    {
      "cell_type": "markdown",
      "source": [
        "##10.4 Ancillaries"
      ],
      "metadata": {
        "id": "U0iXm7s5SqYm"
      }
    },
    {
      "cell_type": "code",
      "source": [
        "#@title 10.4.1 Ancillaries Totales\n",
        "#@markdown Sólo compras aceptadas.\n",
        "\n",
        "df_counter(income_purchases)\n",
        "\n",
        "anc_insurance_breakdown = income_purchases.query(\"insurance > 0\").groupby(lambda _ : 'Seguro').agg(transacciones=('purchase_id','count'), boletos=('ticket_count','sum'), total=('insurance','sum'))\n",
        "anc_nds_breakdown = income_purchases.query(\"service_level > 0\").groupby(lambda _ : 'Nds').agg(transacciones=('purchase_id','count'), boletos=('ticket_count','sum'), total=('service_level','sum'))\n",
        "anc_markup_breakdown = income_purchases.query(\"markup > 0\").groupby(lambda _ : 'Markup').agg(transacciones=('purchase_id','count'), boletos=('ticket_count','sum'), total=('markup','sum'))\n",
        "anc_interest_breakdown = income_purchases.query(\"interest > 0\").groupby(lambda _ : 'Intereses').agg(transacciones=('purchase_id','count'), boletos=('ticket_count','sum'), total=('interest','sum'))\n",
        "anc_discount_breakdown = income_purchases.query(\"discount > 0\").groupby(lambda _ : 'Descuentos').agg(transacciones=('purchase_id','count'), boletos=('ticket_count','sum'), total=('discount','sum'))\n",
        "anc_wallet_breakdown = income_purchases.query(\"wallet > 0\").groupby(lambda _ : 'Monedero').agg(transacciones=('purchase_id','count'), boletos=('ticket_count','sum'), total=('wallet','sum'))\n",
        "anc_viajamas_breakdown = income_purchases.query(\"viajamas > 0\").groupby(lambda _ : 'Viajamas').agg(transacciones=('purchase_id','count'), boletos=('ticket_count','sum'), total=('viajamas','sum'))\n",
        "\n",
        "ancillaries_breakdown = pd.concat([anc_insurance_breakdown, anc_nds_breakdown, anc_markup_breakdown, anc_interest_breakdown, anc_discount_breakdown, anc_wallet_breakdown, anc_viajamas_breakdown])\n",
        "ancillaries_breakdown.loc['TOTAL']= ancillaries_breakdown.sum(numeric_only=True, axis=0)\n",
        "ancillaries_breakdown[num_columns] = ancillaries_breakdown[num_columns].apply(lambda series: series.apply(lambda value: fmt_num(value)) )\n",
        "ancillaries_breakdown[['total']] = ancillaries_breakdown[['total']].apply(lambda series: series.apply(lambda value: fmt_dnum(value)) )\n",
        "ancillaries_breakdown.style"
      ],
      "metadata": {
        "cellView": "form",
        "id": "ioI8OjC5Sotp"
      },
      "execution_count": null,
      "outputs": []
    },
    {
      "cell_type": "code",
      "source": [
        "#@title 10.4.2 Ancillaries Totales Bus\n",
        "#@markdown Sólo compras aceptadas.\n",
        "\n",
        "anc_bus_df = income_purchases.query(\"transportation_type == 'bus' \")\n",
        "df_counter(anc_bus_df)\n",
        "\n",
        "bus_anc_insurance_breakdown = anc_bus_df.query(\"insurance > 0\").groupby(lambda _ : 'Seguro').agg(transacciones=('purchase_id','count'), boletos=('ticket_count','sum'), total=('insurance','sum'))\n",
        "bus_anc_nds_breakdown = anc_bus_df.query(\"service_level > 0\").groupby(lambda _ : 'Nds').agg(transacciones=('purchase_id','count'), boletos=('ticket_count','sum'), total=('service_level','sum'))\n",
        "bus_anc_markup_breakdown = anc_bus_df.query(\"markup > 0\").groupby(lambda _ : 'Markup').agg(transacciones=('purchase_id','count'), boletos=('ticket_count','sum'), total=('markup','sum'))\n",
        "bus_anc_interest_breakdown = anc_bus_df.query(\"interest > 0\").groupby(lambda _ : 'Intereses').agg(transacciones=('purchase_id','count'), boletos=('ticket_count','sum'), total=('interest','sum'))\n",
        "bus_anc_discount_breakdown = anc_bus_df.query(\"discount > 0\").groupby(lambda _ : 'Descuentos').agg(transacciones=('purchase_id','count'), boletos=('ticket_count','sum'), total=('discount','sum'))\n",
        "bus_anc_wallet_breakdown = anc_bus_df.query(\"wallet > 0\").groupby(lambda _ : 'Monedero').agg(transacciones=('purchase_id','count'), boletos=('ticket_count','sum'), total=('wallet','sum'))\n",
        "bus_anc_viajamas_breakdown = anc_bus_df.query(\"viajamas > 0\").groupby(lambda _ : 'Viajamas').agg(transacciones=('purchase_id','count'), boletos=('ticket_count','sum'), total=('viajamas','sum'))\n",
        "\n",
        "bus_ancillaries_breakdown = pd.concat([bus_anc_insurance_breakdown, bus_anc_nds_breakdown, bus_anc_markup_breakdown, bus_anc_interest_breakdown, bus_anc_discount_breakdown, bus_anc_wallet_breakdown, bus_anc_viajamas_breakdown])\n",
        "bus_ancillaries_breakdown.loc['TOTAL']= bus_ancillaries_breakdown.sum(numeric_only=True, axis=0)\n",
        "bus_ancillaries_breakdown[num_columns] = bus_ancillaries_breakdown[num_columns].apply(lambda series: series.apply(lambda value: fmt_num(value)) )\n",
        "bus_ancillaries_breakdown[['total']] = bus_ancillaries_breakdown[['total']].apply(lambda series: series.apply(lambda value: fmt_dnum(value)) )\n",
        "bus_ancillaries_breakdown.style"
      ],
      "metadata": {
        "cellView": "form",
        "id": "hl-fccVhSpd2"
      },
      "execution_count": null,
      "outputs": []
    },
    {
      "cell_type": "code",
      "source": [
        "#@title 10.4.3 Ancillaries Totales Avión\n",
        "#@markdown Sólo compras aceptadas.\n",
        "\n",
        "anc_air_df = income_purchases.query(\"transportation_type == 'air' \")\n",
        "df_counter(anc_air_df)\n",
        "\n",
        "air_anc_insurance_breakdown = anc_air_df.query(\"insurance > 0\").groupby(lambda _ : 'Seguro').agg(transacciones=('purchase_id','count'), boletos=('ticket_count','sum'), total=('insurance','sum'))\n",
        "air_anc_nds_breakdown = anc_air_df.query(\"service_level > 0\").groupby(lambda _ : 'Nds').agg(transacciones=('purchase_id','count'), boletos=('ticket_count','sum'), total=('service_level','sum'))\n",
        "air_anc_markup_breakdown = anc_air_df.query(\"markup > 0\").groupby(lambda _ : 'Markup').agg(transacciones=('purchase_id','count'), boletos=('ticket_count','sum'), total=('markup','sum'))\n",
        "air_anc_interest_breakdown = anc_air_df.query(\"interest > 0\").groupby(lambda _ : 'Intereses').agg(transacciones=('purchase_id','count'), boletos=('ticket_count','sum'), total=('interest','sum'))\n",
        "air_anc_discount_breakdown = anc_air_df.query(\"discount > 0\").groupby(lambda _ : 'Descuentos').agg(transacciones=('purchase_id','count'), boletos=('ticket_count','sum'), total=('discount','sum'))\n",
        "air_anc_wallet_breakdown = anc_air_df.query(\"wallet > 0\").groupby(lambda _ : 'Monedero').agg(transacciones=('purchase_id','count'), boletos=('ticket_count','sum'), total=('wallet','sum'))\n",
        "air_anc_viajamas_breakdown = anc_air_df.query(\"viajamas > 0\").groupby(lambda _ : 'Viajamas').agg(transacciones=('purchase_id','count'), boletos=('ticket_count','sum'), total=('viajamas','sum'))\n",
        "\n",
        "air_ancillaries_breakdown = pd.concat([air_anc_insurance_breakdown, air_anc_nds_breakdown, air_anc_markup_breakdown, air_anc_interest_breakdown, air_anc_discount_breakdown, air_anc_wallet_breakdown, air_anc_viajamas_breakdown])\n",
        "air_ancillaries_breakdown.loc['TOTAL']= air_ancillaries_breakdown.sum(numeric_only=True, axis=0)\n",
        "air_ancillaries_breakdown[num_columns] = air_ancillaries_breakdown[num_columns].apply(lambda series: series.apply(lambda value: fmt_num(value)) )\n",
        "air_ancillaries_breakdown[['total']] = air_ancillaries_breakdown[['total']].apply(lambda series: series.apply(lambda value: fmt_dnum(value)) )\n",
        "air_ancillaries_breakdown.style"
      ],
      "metadata": {
        "cellView": "form",
        "id": "i-u8d9WaSph3"
      },
      "execution_count": null,
      "outputs": []
    },
    {
      "cell_type": "code",
      "source": [
        "#@title 10.4.4 Ancillaries Totales Mix\n",
        "#@markdown Sólo compras aceptadas.\n",
        "\n",
        "anc_mix_df = income_purchases.query(\"transportation_type == 'mix' \")\n",
        "df_counter(anc_mix_df)\n",
        "\n",
        "mix_anc_insurance_breakdown = anc_mix_df.query(\"insurance > 0\").groupby(lambda _ : 'Seguro').agg(transacciones=('purchase_id','count'), boletos=('ticket_count','sum'), total=('insurance','sum'))\n",
        "mix_anc_nds_breakdown = anc_mix_df.query(\"service_level > 0\").groupby(lambda _ : 'Nds').agg(transacciones=('purchase_id','count'), boletos=('ticket_count','sum'), total=('service_level','sum'))\n",
        "mix_anc_markup_breakdown = anc_mix_df.query(\"markup > 0\").groupby(lambda _ : 'Markup').agg(transacciones=('purchase_id','count'), boletos=('ticket_count','sum'), total=('markup','sum'))\n",
        "mix_anc_interest_breakdown = anc_mix_df.query(\"interest > 0\").groupby(lambda _ : 'Intereses').agg(transacciones=('purchase_id','count'), boletos=('ticket_count','sum'), total=('interest','sum'))\n",
        "mix_anc_discount_breakdown = anc_mix_df.query(\"discount > 0\").groupby(lambda _ : 'Descuentos').agg(transacciones=('purchase_id','count'), boletos=('ticket_count','sum'), total=('discount','sum'))\n",
        "mix_anc_wallet_breakdown = anc_mix_df.query(\"wallet > 0\").groupby(lambda _ : 'Monedero').agg(transacciones=('purchase_id','count'), boletos=('ticket_count','sum'), total=('wallet','sum'))\n",
        "mix_anc_viajamas_breakdown = anc_mix_df.query(\"viajamas > 0\").groupby(lambda _ : 'Viajamas').agg(transacciones=('purchase_id','count'), boletos=('ticket_count','sum'), total=('viajamas','sum'))\n",
        "\n",
        "mix_ancillaries_breakdown = pd.concat([mix_anc_insurance_breakdown, mix_anc_nds_breakdown, mix_anc_markup_breakdown, mix_anc_interest_breakdown, mix_anc_discount_breakdown, mix_anc_wallet_breakdown, mix_anc_viajamas_breakdown])\n",
        "mix_ancillaries_breakdown.loc['TOTAL']= mix_ancillaries_breakdown.sum(numeric_only=True, axis=0)\n",
        "mix_ancillaries_breakdown[num_columns] = mix_ancillaries_breakdown[num_columns].apply(lambda series: series.apply(lambda value: fmt_num(value)) )\n",
        "mix_ancillaries_breakdown[['total']] = mix_ancillaries_breakdown[['total']].apply(lambda series: series.apply(lambda value: fmt_dnum(value)) )\n",
        "mix_ancillaries_breakdown.style"
      ],
      "metadata": {
        "cellView": "form",
        "id": "ADHe5n-PS09v"
      },
      "execution_count": null,
      "outputs": []
    },
    {
      "cell_type": "code",
      "source": [
        "#@title 10.4.5 Ancillaries Reservamos\n",
        "#@markdown Sólo compras aceptadas.\n",
        "\n",
        "df_counter(reservamos_income_purchases)\n",
        "\n",
        "reservamos_anc_insurance_breakdown = reservamos_income_purchases.query(\"insurance > 0\").groupby(lambda _ : 'Seguro').agg(transacciones=('purchase_id','count'), boletos=('ticket_count','sum'), total=('insurance','sum'))\n",
        "reservamos_anc_nds_breakdown = reservamos_income_purchases.query(\"service_level > 0\").groupby(lambda _ : 'Nds').agg(transacciones=('purchase_id','count'), boletos=('ticket_count','sum'), total=('service_level','sum'))\n",
        "reservamos_anc_markup_breakdown = reservamos_income_purchases.query(\"markup > 0\").groupby(lambda _ : 'Markup').agg(transacciones=('purchase_id','count'), boletos=('ticket_count','sum'), total=('markup','sum'))\n",
        "reservamos_anc_interest_breakdown = reservamos_income_purchases.query(\"interest > 0\").groupby(lambda _ : 'Intereses').agg(transacciones=('purchase_id','count'), boletos=('ticket_count','sum'), total=('interest','sum'))\n",
        "reservamos_anc_discount_breakdown = reservamos_income_purchases.query(\"discount > 0\").groupby(lambda _ : 'Descuentos').agg(transacciones=('purchase_id','count'), boletos=('ticket_count','sum'), total=('discount','sum'))\n",
        "reservamos_anc_wallet_breakdown = reservamos_income_purchases.query(\"wallet > 0\").groupby(lambda _ : 'Monedero').agg(transacciones=('purchase_id','count'), boletos=('ticket_count','sum'), total=('wallet','sum'))\n",
        "reservamos_anc_viajamas_breakdown = reservamos_income_purchases.query(\"viajamas > 0\").groupby(lambda _ : 'Viajamas').agg(transacciones=('purchase_id','count'), boletos=('ticket_count','sum'), total=('viajamas','sum'))\n",
        "\n",
        "reservamos_ancillaries_breakdown = pd.concat([reservamos_anc_insurance_breakdown, reservamos_anc_nds_breakdown, reservamos_anc_markup_breakdown, reservamos_anc_interest_breakdown, reservamos_anc_discount_breakdown, reservamos_anc_wallet_breakdown, reservamos_anc_viajamas_breakdown])\n",
        "reservamos_ancillaries_breakdown.loc['TOTAL']= reservamos_ancillaries_breakdown.sum(numeric_only=True, axis=0)\n",
        "reservamos_ancillaries_breakdown[num_columns] = reservamos_ancillaries_breakdown[num_columns].apply(lambda series: series.apply(lambda value: fmt_num(value)) )\n",
        "reservamos_ancillaries_breakdown[['total']] = reservamos_ancillaries_breakdown[['total']].apply(lambda series: series.apply(lambda value: fmt_dnum(value)) )\n",
        "reservamos_ancillaries_breakdown.style"
      ],
      "metadata": {
        "cellView": "form",
        "id": "ASGxk7srS35q"
      },
      "execution_count": null,
      "outputs": []
    },
    {
      "cell_type": "code",
      "source": [
        "#@title 10.4.6 Ancillaries Viva\n",
        "#@markdown Sólo compras aceptadas.\n",
        "\n",
        "df_counter(viva_income_purchases)\n",
        "\n",
        "viva_anc_insurance_breakdown = viva_income_purchases.query(\"insurance > 0\").groupby(lambda _ : 'Seguro').agg(transacciones=('purchase_id','count'), boletos=('ticket_count','sum'), total=('insurance','sum'))\n",
        "viva_anc_nds_breakdown = viva_income_purchases.query(\"service_level > 0\").groupby(lambda _ : 'Nds').agg(transacciones=('purchase_id','count'), boletos=('ticket_count','sum'), total=('service_level','sum'))\n",
        "viva_anc_markup_breakdown = viva_income_purchases.query(\"markup > 0\").groupby(lambda _ : 'Markup').agg(transacciones=('purchase_id','count'), boletos=('ticket_count','sum'), total=('markup','sum'))\n",
        "viva_anc_interest_breakdown = viva_income_purchases.query(\"interest > 0\").groupby(lambda _ : 'Intereses').agg(transacciones=('purchase_id','count'), boletos=('ticket_count','sum'), total=('interest','sum'))\n",
        "viva_anc_discount_breakdown = viva_income_purchases.query(\"discount > 0\").groupby(lambda _ : 'Descuentos').agg(transacciones=('purchase_id','count'), boletos=('ticket_count','sum'), total=('discount','sum'))\n",
        "viva_anc_wallet_breakdown = viva_income_purchases.query(\"wallet > 0\").groupby(lambda _ : 'Monedero').agg(transacciones=('purchase_id','count'), boletos=('ticket_count','sum'), total=('wallet','sum'))\n",
        "viva_anc_viajamas_breakdown = viva_income_purchases.query(\"viajamas > 0\").groupby(lambda _ : 'Viajamas').agg(transacciones=('purchase_id','count'), boletos=('ticket_count','sum'), total=('viajamas','sum'))\n",
        "\n",
        "viva_ancillaries_breakdown = pd.concat([viva_anc_insurance_breakdown, viva_anc_nds_breakdown, viva_anc_markup_breakdown, viva_anc_interest_breakdown, viva_anc_discount_breakdown, viva_anc_wallet_breakdown, viva_anc_viajamas_breakdown])\n",
        "viva_ancillaries_breakdown.loc['TOTAL']= viva_ancillaries_breakdown.sum(numeric_only=True, axis=0)\n",
        "viva_ancillaries_breakdown[num_columns] = viva_ancillaries_breakdown[num_columns].apply(lambda series: series.apply(lambda value: fmt_num(value)) )\n",
        "viva_ancillaries_breakdown[['total']] = viva_ancillaries_breakdown[['total']].apply(lambda series: series.apply(lambda value: fmt_dnum(value)) )\n",
        "viva_ancillaries_breakdown.style"
      ],
      "metadata": {
        "cellView": "form",
        "id": "Xi1czsXRS4CX"
      },
      "execution_count": null,
      "outputs": []
    },
    {
      "cell_type": "code",
      "source": [
        "#@title 10.4.7 Ancillaries Resumen\n",
        "#@markdown Sólo compras aceptadas. <br> total_compra de reservamos y viva ya incluyen ancillaries, ¿debería ser total de viaje?\n",
        "\n",
        "vendor_breakdown2 = income_purchases.groupby(['vendor'], dropna=False).agg(transacciones=('vendor','count'), boletos=('ticket_count','sum'), total=('payment_total','sum'))\n",
        "\n",
        "res_ancillaries_breakdown = pd.concat([vendor_breakdown2, anc_insurance_breakdown, anc_nds_breakdown, anc_markup_breakdown, anc_interest_breakdown, anc_wallet_breakdown])\n",
        "res_ancillaries_breakdown.loc['TOTAL']= res_ancillaries_breakdown.sum(numeric_only=True, axis=0)\n",
        "res_ancillaries_breakdown[num_columns] = res_ancillaries_breakdown[num_columns].apply(lambda series: series.apply(lambda value: fmt_num(value)) )\n",
        "res_ancillaries_breakdown[['total']] = res_ancillaries_breakdown[['total']].apply(lambda series: series.apply(lambda value: fmt_dnum(value)) )\n",
        "res_ancillaries_breakdown.style"
      ],
      "metadata": {
        "cellView": "form",
        "id": "XBmueacXTAi5"
      },
      "execution_count": null,
      "outputs": []
    },
    {
      "cell_type": "markdown",
      "source": [
        "## 10.5 Procesadores"
      ],
      "metadata": {
        "id": "5DdoXpV5TDm4"
      }
    },
    {
      "cell_type": "code",
      "source": [
        "#@title 10.5.1 Ventas por procesador en Reservamos.\n",
        "#@markdown Sólo compras aceptadas. <br>\n",
        "#@markdown - 'aceptadas' incluye compras completadas, pendientes y contracargos que no tengan pagos fallidos. <br>\n",
        "\n",
        "engine_income_purchases = income_purchases.query(\"payment_engine == payment_engine\")\n",
        "engines_breakdown = engine_income_purchases.groupby(['payment_engine'], dropna=False).agg(transacciones=('vendor','count'), boletos=('ticket_count','sum'), total_compra=('payment_total','sum'))\n",
        "\n",
        "not_engine_income_purchases = income_purchases.query(\"payment_engine != payment_engine\")\n",
        "print('Compras sin pago: ' + str(fmt_curr(not_engine_income_purchases['payment_total'].sum())))\n",
        "\n",
        "engines_breakdown.loc['TOTAL']= engines_breakdown.sum(numeric_only=True, axis=0)\n",
        "engines_breakdown[num_columns] = engines_breakdown[num_columns].apply(lambda series: series.apply(lambda value: fmt_num(value)) )\n",
        "engines_breakdown[['total_compra']] = engines_breakdown[['total_compra']].apply(lambda series: series.apply(lambda value: fmt_dnum(value)) )\n",
        "engines_breakdown.style\n",
        "\n",
        "# to show purchases from breakdown paste 'income_purchases.style' on the next line."
      ],
      "metadata": {
        "cellView": "form",
        "id": "lFhlp4WATBkz"
      },
      "execution_count": null,
      "outputs": []
    },
    {
      "cell_type": "code",
      "source": [
        "#@title 10.5.2 Pagos en los procesadores.\n",
        "#@markdown Pagos settled o exitosos en reportes para Adyen, Openpay, Conekta y Paypal. Total de Reservamos incluye sólo las compras 'aceptadas'.\n",
        "\n",
        "income_purchases_adyen = income_purchases.query(\"payment_engine == 'adyen'\")\n",
        "income_purchases_openpay = income_purchases.query(\"payment_engine == 'openpay'\")\n",
        "income_purchases_conekta = income_purchases.query(\"payment_engine == 'conekta'\")\n",
        "income_purchases_paypal = income_purchases.query(\"payment_engine == 'paypal'\")\n",
        "\n",
        "df_data = {'engine': ['adyen', 'openpay', 'conekta', 'paypal'],\n",
        "           'reservamos_total': [income_purchases_adyen['payment_total'].sum(), income_purchases_openpay['payment_total'].sum(), income_purchases_conekta['payment_total'].sum(), income_purchases_paypal['payment_total'].sum()],\n",
        "           'engine_total': [monthly_adyen_df['Gross Credit (GC)'].sum(), openpay_total_amount, filtered_conekta_df['monto_cargo'].sum(), filtered_paypal_df['Bruto'].sum()]}\n",
        "compare_df = pd.DataFrame(data=df_data)\n",
        "\n",
        "compare_df['diff'] = compare_df['reservamos_total'] - compare_df['engine_total']\n",
        "\n",
        "pending_breakdown = compare_df.groupby(['engine'], dropna=False).agg(reservamos=('reservamos_total','sum'), procesador=('engine_total', 'sum'), diferencia=('diff', 'sum'))\n",
        "pending_breakdown.loc['TOTAL']= pending_breakdown.sum(numeric_only=True, axis=0)\n",
        "pending_breakdown[['reservamos', 'procesador', 'diferencia']] = pending_breakdown[['reservamos', 'procesador', 'diferencia']].apply(lambda series: series.apply(lambda value: fmt_dnum(value)) )\n",
        "pending_breakdown.style"
      ],
      "metadata": {
        "cellView": "form",
        "id": "5qJDKvGSTHIH"
      },
      "execution_count": null,
      "outputs": []
    },
    {
      "cell_type": "code",
      "source": [
        "#@title 10.5.3 Pagos pendientes en los procesadores.\n",
        "#@markdown Sólo pagos de Reservamos que deberían aparecer en los reportes de Adyen, Openpay, Conekta y Paypal en los próximos 3 meses. <br> Pueden incluir pagos que entraron el último día del mes pero cuya compra se completó el primer día del mes.\n",
        "\n",
        "dataframes_for_breakdown = [adyen_next_month_charges, conekta_next_month_charges, paypal_next_month_charges] if openpay_total_amount == 0 else [adyen_next_month_charges, openpay_next_month_charges, conekta_next_month_charges, paypal_next_month_charges]\n",
        "pending_breakdown_df = pd.concat(dataframes_for_breakdown)\n",
        "\n",
        "pending_breakdown = pending_breakdown_df.groupby(['engine', 'payment_status'], dropna=False).agg(transacciones=('tokens','count'), boletos=('ticket_count', 'sum'), total_compra=('amount','sum'))\n",
        "pending_breakdown.loc['TOTAL']= pending_breakdown.sum(numeric_only=True, axis=0)\n",
        "\n",
        "pending_breakdown[['transacciones', 'boletos']] = pending_breakdown[['transacciones', 'boletos']].apply(lambda series: series.apply(lambda value: fmt_num(value)) )\n",
        "pending_breakdown[['total_compra']] = pending_breakdown[['total_compra']].apply(lambda series: series.apply(lambda value: fmt_dnum(value)) )\n",
        "pending_breakdown.style"
      ],
      "metadata": {
        "id": "Mwtgt4mBTHRm",
        "cellView": "form"
      },
      "execution_count": null,
      "outputs": []
    },
    {
      "cell_type": "markdown",
      "source": [
        "# Extras (no correr)"
      ],
      "metadata": {
        "id": "ZvJrBCZFTRZ0"
      }
    },
    {
      "cell_type": "code",
      "source": [
        "#@title Cargar archivo de pagos no encontrados entre Reservamos y Adyen.\n",
        "\n",
        "not_found_payments_filename = 'pagos-no-encontrados.csv' #months before\n",
        "not_found_payments = pd.read_csv(not_found_payments_filename)"
      ],
      "metadata": {
        "cellView": "form",
        "id": "1g8vRZ11THZT"
      },
      "execution_count": null,
      "outputs": []
    },
    {
      "cell_type": "code",
      "source": [
        "#@title Actualizar archivo de pagos no encontrados este mes entre Reservamos y Adyen.\n",
        "print('Archivo cargado:')\n",
        "df_counter(not_found_payments)\n",
        "\n",
        "# COMPARE ALL PURCHASES AND SAVE IT ON NOT FOUND ON FILE\n",
        "adyen_tokens0 = pd.DataFrame().assign(tokens=all_monthly_adyen_df['Psp Reference'], engine_status=all_monthly_adyen_df['Type'], amount=all_monthly_adyen_df['Gross Credit (GC)'], method=all_monthly_adyen_df['Payment Method'], date=all_monthly_adyen_df['Creation Date'], df='only_on_adyen', creation_month=all_monthly_adyen_df['Creation Month'])\n",
        "reservamos_adyen_tokens0 = pd.DataFrame().assign(completed_at_mx=adyen_purchases['completed_at_mx'], tokens=adyen_purchases['payment_token'], payment_status=adyen_purchases['payment_status'], purchase_state=adyen_purchases['purchase_state'], amount=adyen_purchases['payment_total'], method=adyen_purchases['card_brand'], date=adyen_purchases['paid_at_mx'], df='only_on_reservamos', purchase_id=adyen_purchases['purchase_id'], creation_month=adyen_purchases['paid_at_mx'].str[5:7], ticket_count=adyen_purchases['ticket_count'],  engine='adyen')\n",
        "adyen_diffs0 = pd.concat([adyen_tokens0, reservamos_adyen_tokens0]).drop_duplicates(subset=['tokens'], keep=False)\n",
        "adyen_diffs_subset0 = adyen_diffs0[['df', 'tokens', 'payment_status', 'amount', 'method', 'date', 'engine_status', 'purchase_id', 'ticket_count', 'engine', 'purchase_state']].reset_index(drop=True)\n",
        "adyen_diffs_subset0['status_check'] = 'pending'\n",
        "adyen_diffs_subset0['updated_at'] = pd.to_datetime('now')\n",
        "\n",
        "differences_subset0 = pd.concat([adyen_diffs_subset0, missing_refund_subset]).drop_duplicates(subset=['tokens'], keep='first')\n",
        "print(linebr + 'Registros a añadir:')\n",
        "print(adyen_diffs_subset0.shape[0] + missing_refund_subset.shape[0])\n",
        "\n",
        "differences_subset = pd.concat([not_found_payments, differences_subset0]).drop_duplicates(subset=['tokens'], keep='first')\n",
        "print(linebr + 'Archivo actualizado:')\n",
        "df_counter(differences_subset)\n",
        "\n",
        "differences_subset.to_csv('pagos-no-encontrados.csv', index=False, encoding='utf-8-sig')"
      ],
      "metadata": {
        "cellView": "form",
        "id": "xlPEdBJ6TVHT"
      },
      "execution_count": null,
      "outputs": []
    },
    {
      "cell_type": "code",
      "source": [
        "#@title Cargar archivo de pagos no encontrados entre Reservamos y Adyen.\n",
        "\n",
        "not_found_payments_filename = 'pagos-no-encontrados.csv' #months before\n",
        "not_found_payments = pd.read_csv(not_found_payments_filename)"
      ],
      "metadata": {
        "cellView": "form",
        "id": "ke2nnwRvTVNI"
      },
      "execution_count": null,
      "outputs": []
    },
    {
      "cell_type": "code",
      "source": [
        "#@title Buscar, actualizar y descargar pagos de meses anteriores entre Reservamos y Adyen.\n",
        "#@markdown Transacciones de meses anteriores encontradas este mes.\n",
        "diferencias_por = \"desglose\" #@param [\"desglose\", \"registros\"]\n",
        "\n",
        "if (not_found_payments.empty):\n",
        "  print('Archivo no encontrado o vacío.')\n",
        "else:\n",
        "  print('Transacciones en archivo:')\n",
        "  df_counter(not_found_payments)\n",
        "\n",
        "  still_not_found_payments = not_found_payments.query(\"status_check == 'pending'\")\n",
        "  print(linebr + 'Transacciones pendientes de encontrar:')\n",
        "  df_counter(still_not_found_payments)\n",
        "\n",
        "  filtered_adyen_df2 = adyen_df.sort_values(by=['Creation Date']).drop_duplicates(['Psp Reference'],keep='last')\n",
        "\n",
        "  adyen_report_tokens = filtered_adyen_df2['Psp Reference'].values\n",
        "\n",
        "  not_found_payments.loc[not_found_payments['tokens'].isin(adyen_report_tokens), 'status_check'] = 'found'\n",
        "  not_found_payments.loc[not_found_payments['tokens'].isin(adyen_report_tokens), 'updated_at'] = pd.to_datetime('now')\n",
        "\n",
        "  not_found_tokens = not_found_payments['tokens'].values\n",
        "  for x in not_found_tokens:\n",
        "    if (x in adyen_report_tokens):\n",
        "      engine_status = filtered_adyen_df2.loc[filtered_adyen_df2['Psp Reference'] == x, 'Type'].values[0]\n",
        "      not_found_payments.loc[not_found_payments['tokens'] == x, 'engine_status'] = engine_status\n",
        "\n",
        "  found_payments = not_found_payments.loc[not_found_payments['tokens'].isin(adyen_report_tokens)]\n",
        "  print(linebr + 'Transacciones encontradas este mes:')\n",
        "  df_counter(found_payments)\n",
        "\n",
        "  checked_payments_total = found_payments.query(\"engine_status == 'Settled'\")['amount'].sum()\n",
        "  print(linebr + 'Total encontrado y settled este mes:')\n",
        "  print(fmt_curr(checked_payments_total))\n",
        "\n",
        "  checked_payments_breakdown = found_payments.groupby(['df', 'status_check', 'payment_status', 'engine_status', 'method'], dropna=False).agg(count=('method','count'), amount=('amount','sum'))\n",
        "  checked_payments_breakdown[['amount']] = checked_payments_breakdown[['amount']].apply(lambda series: series.apply(lambda value: fmt_dnum(value)) )\n",
        "\n",
        "  not_found_payments.to_csv(not_found_payments_filename, index=False, encoding='utf-8-sig')\n",
        "  #files.download(not_found_payments_filename)\n",
        "\n",
        "  print(linebr + 'Transacciones encontradas:' + linebr)\n",
        "checked_payments_breakdown.style if diferencias_por == 'desglose' else not_found_payments.style"
      ],
      "metadata": {
        "cellView": "form",
        "id": "hMo-RowDTVW6"
      },
      "execution_count": null,
      "outputs": []
    }
  ]
}